{
  "cells": [
    {
      "cell_type": "code",
      "execution_count": 1,
      "metadata": {
        "id": "4xAM87ZSbDW_"
      },
      "outputs": [],
      "source": [
        "import pandas as pd\n",
        "import tensorflow as tf\n",
        "import numpy as np\n",
        "\n",
        "df = pd.read_csv('/content/sample_data/07_train.csv')\n",
        "\n",
        "from sklearn.model_selection import train_test_split\n",
        "\n",
        "train_set, test_set = train_test_split(df, test_size=0.2, random_state=42)\n",
        "\n",
        "# split target and features\n",
        "X_train = train_set.drop('Premium Amount', axis=1)\n",
        "y_train = train_set['Premium Amount'].copy()\n",
        "X_test = test_set.drop('Premium Amount', axis=1)\n",
        "y_test = test_set['Premium Amount'].copy()\n",
        "\n",
        "X_train = np.array(X_train)\n",
        "y_train = np.array(y_train)\n",
        "X_test = np.array(X_test)\n",
        "y_test = np.array(y_test)"
      ]
    },
    {
      "cell_type": "code",
      "execution_count": 2,
      "metadata": {
        "id": "UGAOvQtvbDXA"
      },
      "outputs": [],
      "source": [
        "def root_mean_squared_error(y_true, y_pred):\n",
        "    return tf.sqrt(tf.reduce_mean(tf.square(y_pred - y_true)))"
      ]
    },
    {
      "cell_type": "markdown",
      "metadata": {
        "id": "DT-RWhVHbDXB"
      },
      "source": [
        "## Momentum"
      ]
    },
    {
      "cell_type": "code",
      "execution_count": 3,
      "metadata": {
        "id": "yqca1kp-bDXC"
      },
      "outputs": [],
      "source": [
        "# cyclic momentum\n",
        "class CyclicMomentumScheduler(tf.keras.callbacks.Callback):\n",
        "    def __init__(self, iterations, start_lr=1e-4, max_lr=1e-3, start_mom=0.9, final_mom=0.7, cyclic_mom=False, cyclic_lr=False):\n",
        "        self.iterations = iterations\n",
        "        self.start_lr = start_lr\n",
        "        self.max_lr = max_lr\n",
        "        self.start_mom = start_mom\n",
        "        self.final_mom = final_mom\n",
        "        self.iteration = 0\n",
        "        self.lr = []\n",
        "        self.cyclic_mom = cyclic_mom\n",
        "        self.cyclic_lr = cyclic_lr\n",
        "        self.current_lr = start_lr\n",
        "\n",
        "    def _interpolate(self, iter1, iter2, lr1, lr2):\n",
        "        slope = (lr2 - lr1) / (iter2 - iter1)\n",
        "        delta = self.iteration - iter1\n",
        "        return delta * slope + lr1\n",
        "\n",
        "    def on_batch_begin(self, batch, logs=None):\n",
        "        # learning rate\n",
        "        if self.cyclic_lr:\n",
        "            lr = self._interpolate(0, self.iterations, self.start_lr, self.max_lr)\n",
        "            self.current_lr = lr\n",
        "            lr = float(lr)\n",
        "            self.model.optimizer.learning_rate.assign(lr)\n",
        "\n",
        "        # momentum\n",
        "        if self.cyclic_mom:\n",
        "            mom = self._interpolate(0, self.iterations, self.start_mom, self.final_mom)\n",
        "            mom = float(mom)\n",
        "            self.model.optimizer.momentum = mom\n",
        "        self.iteration += 1\n",
        "\n",
        "    # add learning rate to history\n",
        "    def on_epoch_begin(self, epoch, logs):\n",
        "        print(self.current_lr)\n",
        "        print(self.model.optimizer.momentum)\n",
        "        self.lr.append(float(tf.keras.backend.get_value(self.model.optimizer.learning_rate)))"
      ]
    },
    {
      "cell_type": "markdown",
      "metadata": {
        "id": "SoVBPFbrbDXC"
      },
      "source": [
        "### Constant vs Decreasing Momentum\n",
        "- model 1: 0.9 (LR=0.006)\n",
        "- model 2: 0.97-0.7 (CLR=0.001-0.006)\n",
        "\n",
        "WD: 1e-6"
      ]
    },
    {
      "cell_type": "code",
      "execution_count": 4,
      "metadata": {
        "colab": {
          "base_uri": "https://localhost:8080/"
        },
        "id": "QY0ewFN0bDXD",
        "outputId": "0fef228b-22b7-4a35-d034-dc5f92e9d156"
      },
      "outputs": [
        {
          "output_type": "stream",
          "name": "stderr",
          "text": [
            "/usr/local/lib/python3.10/dist-packages/keras/src/layers/normalization/batch_normalization.py:143: UserWarning: Do not pass an `input_shape`/`input_dim` argument to a layer. When using Sequential models, prefer using an `Input(shape)` object as the first layer in the model instead.\n",
            "  super().__init__(**kwargs)\n"
          ]
        },
        {
          "output_type": "stream",
          "name": "stdout",
          "text": [
            "0.0001\n",
            "0.9\n",
            "Epoch 1/20\n",
            "\u001b[1m7500/7500\u001b[0m \u001b[32m━━━━━━━━━━━━━━━━━━━━\u001b[0m\u001b[37m\u001b[0m \u001b[1m22s\u001b[0m 2ms/step - loss: 1.2217 - val_loss: 1.1140\n",
            "0.0001\n",
            "0.9\n",
            "Epoch 2/20\n",
            "\u001b[1m7500/7500\u001b[0m \u001b[32m━━━━━━━━━━━━━━━━━━━━\u001b[0m\u001b[37m\u001b[0m \u001b[1m19s\u001b[0m 3ms/step - loss: 1.0939 - val_loss: 1.1015\n",
            "0.0001\n",
            "0.9\n",
            "Epoch 3/20\n",
            "\u001b[1m7500/7500\u001b[0m \u001b[32m━━━━━━━━━━━━━━━━━━━━\u001b[0m\u001b[37m\u001b[0m \u001b[1m19s\u001b[0m 2ms/step - loss: 1.0908 - val_loss: 1.6077\n",
            "0.0001\n",
            "0.9\n",
            "Epoch 4/20\n",
            "\u001b[1m7500/7500\u001b[0m \u001b[32m━━━━━━━━━━━━━━━━━━━━\u001b[0m\u001b[37m\u001b[0m \u001b[1m23s\u001b[0m 3ms/step - loss: 1.0872 - val_loss: 1.6367\n",
            "0.0001\n",
            "0.9\n",
            "Epoch 5/20\n",
            "\u001b[1m7500/7500\u001b[0m \u001b[32m━━━━━━━━━━━━━━━━━━━━\u001b[0m\u001b[37m\u001b[0m \u001b[1m18s\u001b[0m 2ms/step - loss: 1.0853 - val_loss: 1.0885\n",
            "0.0001\n",
            "0.9\n",
            "Epoch 6/20\n",
            "\u001b[1m7500/7500\u001b[0m \u001b[32m━━━━━━━━━━━━━━━━━━━━\u001b[0m\u001b[37m\u001b[0m \u001b[1m23s\u001b[0m 3ms/step - loss: 1.0856 - val_loss: 1.1020\n",
            "0.0001\n",
            "0.9\n",
            "Epoch 7/20\n",
            "\u001b[1m7500/7500\u001b[0m \u001b[32m━━━━━━━━━━━━━━━━━━━━\u001b[0m\u001b[37m\u001b[0m \u001b[1m18s\u001b[0m 2ms/step - loss: 1.0848 - val_loss: 1.1052\n",
            "0.0001\n",
            "0.9\n",
            "Epoch 8/20\n",
            "\u001b[1m7500/7500\u001b[0m \u001b[32m━━━━━━━━━━━━━━━━━━━━\u001b[0m\u001b[37m\u001b[0m \u001b[1m23s\u001b[0m 3ms/step - loss: 1.0850 - val_loss: 1.7616\n",
            "0.0001\n",
            "0.9\n",
            "Epoch 9/20\n",
            "\u001b[1m7500/7500\u001b[0m \u001b[32m━━━━━━━━━━━━━━━━━━━━\u001b[0m\u001b[37m\u001b[0m \u001b[1m18s\u001b[0m 2ms/step - loss: 1.0833 - val_loss: 1.0895\n",
            "0.0001\n",
            "0.9\n",
            "Epoch 10/20\n",
            "\u001b[1m7500/7500\u001b[0m \u001b[32m━━━━━━━━━━━━━━━━━━━━\u001b[0m\u001b[37m\u001b[0m \u001b[1m23s\u001b[0m 3ms/step - loss: 1.0837 - val_loss: 1.5152\n",
            "0.0001\n",
            "0.9\n",
            "Epoch 11/20\n",
            "\u001b[1m7500/7500\u001b[0m \u001b[32m━━━━━━━━━━━━━━━━━━━━\u001b[0m\u001b[37m\u001b[0m \u001b[1m19s\u001b[0m 2ms/step - loss: 1.0824 - val_loss: 1.0895\n",
            "0.0001\n",
            "0.9\n",
            "Epoch 12/20\n",
            "\u001b[1m7500/7500\u001b[0m \u001b[32m━━━━━━━━━━━━━━━━━━━━\u001b[0m\u001b[37m\u001b[0m \u001b[1m20s\u001b[0m 2ms/step - loss: 1.0827 - val_loss: 1.1120\n",
            "0.0001\n",
            "0.9\n",
            "Epoch 13/20\n",
            "\u001b[1m7500/7500\u001b[0m \u001b[32m━━━━━━━━━━━━━━━━━━━━\u001b[0m\u001b[37m\u001b[0m \u001b[1m20s\u001b[0m 2ms/step - loss: 1.0806 - val_loss: 1.0961\n",
            "0.0001\n",
            "0.9\n",
            "Epoch 14/20\n",
            "\u001b[1m7500/7500\u001b[0m \u001b[32m━━━━━━━━━━━━━━━━━━━━\u001b[0m\u001b[37m\u001b[0m \u001b[1m21s\u001b[0m 2ms/step - loss: 1.0794 - val_loss: 1.0812\n",
            "0.0001\n",
            "0.9\n",
            "Epoch 15/20\n",
            "\u001b[1m7500/7500\u001b[0m \u001b[32m━━━━━━━━━━━━━━━━━━━━\u001b[0m\u001b[37m\u001b[0m \u001b[1m20s\u001b[0m 2ms/step - loss: 1.0797 - val_loss: 1.1280\n",
            "0.0001\n",
            "0.9\n",
            "Epoch 16/20\n",
            "\u001b[1m7500/7500\u001b[0m \u001b[32m━━━━━━━━━━━━━━━━━━━━\u001b[0m\u001b[37m\u001b[0m \u001b[1m18s\u001b[0m 2ms/step - loss: 1.0790 - val_loss: 1.1073\n",
            "0.0001\n",
            "0.9\n",
            "Epoch 17/20\n",
            "\u001b[1m7500/7500\u001b[0m \u001b[32m━━━━━━━━━━━━━━━━━━━━\u001b[0m\u001b[37m\u001b[0m \u001b[1m19s\u001b[0m 3ms/step - loss: 1.0806 - val_loss: 1.1049\n",
            "0.0001\n",
            "0.9\n",
            "Epoch 18/20\n",
            "\u001b[1m7500/7500\u001b[0m \u001b[32m━━━━━━━━━━━━━━━━━━━━\u001b[0m\u001b[37m\u001b[0m \u001b[1m18s\u001b[0m 2ms/step - loss: 1.0786 - val_loss: 1.1289\n",
            "0.0001\n",
            "0.9\n",
            "Epoch 19/20\n",
            "\u001b[1m7500/7500\u001b[0m \u001b[32m━━━━━━━━━━━━━━━━━━━━\u001b[0m\u001b[37m\u001b[0m \u001b[1m23s\u001b[0m 3ms/step - loss: 1.0800 - val_loss: 1.0904\n",
            "0.0001\n",
            "0.9\n",
            "Epoch 20/20\n",
            "\u001b[1m7500/7500\u001b[0m \u001b[32m━━━━━━━━━━━━━━━━━━━━\u001b[0m\u001b[37m\u001b[0m \u001b[1m18s\u001b[0m 2ms/step - loss: 1.0767 - val_loss: 1.1717\n"
          ]
        }
      ],
      "source": [
        "# model 1: 0.9 (LR=0.006)\n",
        "import math\n",
        "\n",
        "model = tf.keras.Sequential()\n",
        "\n",
        "for i in range(5):\n",
        "    model.add(tf.keras.layers.Dense(50, activation='relu'))\n",
        "    model.add(tf.keras.layers.BatchNormalization(input_shape=X_train.shape[1:]))\n",
        "\n",
        "model.add(tf.keras.layers.Dense(1))\n",
        "\n",
        "model.compile(\n",
        "    loss=root_mean_squared_error,\n",
        "    optimizer=tf.keras.optimizers.SGD(learning_rate=0.006, weight_decay=1e-6, momentum=0.9),\n",
        "    )\n",
        "\n",
        "n_epochs = 20\n",
        "batch_size = 128\n",
        "iterations = math.ceil(len(X_train) / batch_size) * n_epochs\n",
        "\n",
        "callbacks = [CyclicMomentumScheduler(\n",
        "                         iterations, cyclic_mom=False, cyclic_lr=False)]\n",
        "\n",
        "history9 = model.fit(X_train, y_train, epochs=n_epochs, batch_size=batch_size,\n",
        "                    validation_data=(X_test, y_test),\n",
        "                     callbacks=callbacks)"
      ]
    },
    {
      "cell_type": "code",
      "execution_count": 5,
      "metadata": {
        "colab": {
          "base_uri": "https://localhost:8080/"
        },
        "id": "68z05_Z1bDXD",
        "outputId": "31d85724-5117-468e-b290-f7c8ddfc72d6"
      },
      "outputs": [
        {
          "output_type": "stream",
          "name": "stdout",
          "text": [
            "0.002\n",
            "0.97\n",
            "Epoch 1/20\n",
            "\u001b[1m7500/7500\u001b[0m \u001b[32m━━━━━━━━━━━━━━━━━━━━\u001b[0m\u001b[37m\u001b[0m \u001b[1m26s\u001b[0m 3ms/step - loss: 1.2857 - val_loss: 1.1235\n",
            "0.002199973333333333\n",
            "0.9565018\n",
            "Epoch 2/20\n",
            "\u001b[1m7500/7500\u001b[0m \u001b[32m━━━━━━━━━━━━━━━━━━━━\u001b[0m\u001b[37m\u001b[0m \u001b[1m40s\u001b[0m 3ms/step - loss: 1.1005 - val_loss: 3.2521\n",
            "0.0023999733333333333\n",
            "0.9430018\n",
            "Epoch 3/20\n",
            "\u001b[1m7500/7500\u001b[0m \u001b[32m━━━━━━━━━━━━━━━━━━━━\u001b[0m\u001b[37m\u001b[0m \u001b[1m23s\u001b[0m 3ms/step - loss: 1.0906 - val_loss: 1.6381\n",
            "0.0025999733333333334\n",
            "0.9295017999999999\n",
            "Epoch 4/20\n",
            "\u001b[1m7500/7500\u001b[0m \u001b[32m━━━━━━━━━━━━━━━━━━━━\u001b[0m\u001b[37m\u001b[0m \u001b[1m23s\u001b[0m 3ms/step - loss: 1.0896 - val_loss: 1.1011\n",
            "0.0027999733333333335\n",
            "0.9160018\n",
            "Epoch 5/20\n",
            "\u001b[1m7500/7500\u001b[0m \u001b[32m━━━━━━━━━━━━━━━━━━━━\u001b[0m\u001b[37m\u001b[0m \u001b[1m41s\u001b[0m 3ms/step - loss: 1.0880 - val_loss: 1.0889\n",
            "0.0029999733333333336\n",
            "0.9025018\n",
            "Epoch 6/20\n",
            "\u001b[1m7500/7500\u001b[0m \u001b[32m━━━━━━━━━━━━━━━━━━━━\u001b[0m\u001b[37m\u001b[0m \u001b[1m22s\u001b[0m 3ms/step - loss: 1.0860 - val_loss: 1.3041\n",
            "0.003199973333333333\n",
            "0.8890018\n",
            "Epoch 7/20\n",
            "\u001b[1m7500/7500\u001b[0m \u001b[32m━━━━━━━━━━━━━━━━━━━━\u001b[0m\u001b[37m\u001b[0m \u001b[1m41s\u001b[0m 3ms/step - loss: 1.0832 - val_loss: 1.0888\n",
            "0.0033999733333333333\n",
            "0.8755018\n",
            "Epoch 8/20\n",
            "\u001b[1m7500/7500\u001b[0m \u001b[32m━━━━━━━━━━━━━━━━━━━━\u001b[0m\u001b[37m\u001b[0m \u001b[1m23s\u001b[0m 3ms/step - loss: 1.0854 - val_loss: 1.1523\n",
            "0.0035999733333333334\n",
            "0.8620017999999999\n",
            "Epoch 9/20\n",
            "\u001b[1m7500/7500\u001b[0m \u001b[32m━━━━━━━━━━━━━━━━━━━━\u001b[0m\u001b[37m\u001b[0m \u001b[1m23s\u001b[0m 3ms/step - loss: 1.0828 - val_loss: 1.0930\n",
            "0.0037999733333333335\n",
            "0.8485018\n",
            "Epoch 10/20\n",
            "\u001b[1m7500/7500\u001b[0m \u001b[32m━━━━━━━━━━━━━━━━━━━━\u001b[0m\u001b[37m\u001b[0m \u001b[1m24s\u001b[0m 3ms/step - loss: 1.0851 - val_loss: 1.0946\n",
            "0.003999973333333334\n",
            "0.8350017999999999\n",
            "Epoch 11/20\n",
            "\u001b[1m7500/7500\u001b[0m \u001b[32m━━━━━━━━━━━━━━━━━━━━\u001b[0m\u001b[37m\u001b[0m \u001b[1m40s\u001b[0m 3ms/step - loss: 1.0833 - val_loss: 1.0973\n",
            "0.004199973333333333\n",
            "0.8215018\n",
            "Epoch 12/20\n",
            "\u001b[1m7500/7500\u001b[0m \u001b[32m━━━━━━━━━━━━━━━━━━━━\u001b[0m\u001b[37m\u001b[0m \u001b[1m43s\u001b[0m 3ms/step - loss: 1.0806 - val_loss: 1.0891\n",
            "0.004399973333333333\n",
            "0.8080018\n",
            "Epoch 13/20\n",
            "\u001b[1m7500/7500\u001b[0m \u001b[32m━━━━━━━━━━━━━━━━━━━━\u001b[0m\u001b[37m\u001b[0m \u001b[1m42s\u001b[0m 3ms/step - loss: 1.0816 - val_loss: 1.1013\n",
            "0.004599973333333333\n",
            "0.7945017999999999\n",
            "Epoch 14/20\n",
            "\u001b[1m7500/7500\u001b[0m \u001b[32m━━━━━━━━━━━━━━━━━━━━\u001b[0m\u001b[37m\u001b[0m \u001b[1m38s\u001b[0m 3ms/step - loss: 1.0810 - val_loss: 1.2984\n",
            "0.004799973333333334\n",
            "0.7810018\n",
            "Epoch 15/20\n",
            "\u001b[1m7500/7500\u001b[0m \u001b[32m━━━━━━━━━━━━━━━━━━━━\u001b[0m\u001b[37m\u001b[0m \u001b[1m25s\u001b[0m 3ms/step - loss: 1.0827 - val_loss: 1.0860\n",
            "0.004999973333333334\n",
            "0.7675018\n",
            "Epoch 16/20\n",
            "\u001b[1m7500/7500\u001b[0m \u001b[32m━━━━━━━━━━━━━━━━━━━━\u001b[0m\u001b[37m\u001b[0m \u001b[1m40s\u001b[0m 3ms/step - loss: 1.0818 - val_loss: 1.1276\n",
            "0.005199973333333333\n",
            "0.7540017999999999\n",
            "Epoch 17/20\n",
            "\u001b[1m7500/7500\u001b[0m \u001b[32m━━━━━━━━━━━━━━━━━━━━\u001b[0m\u001b[37m\u001b[0m \u001b[1m24s\u001b[0m 3ms/step - loss: 1.0798 - val_loss: 1.1727\n",
            "0.005399973333333334\n",
            "0.7405018\n",
            "Epoch 18/20\n",
            "\u001b[1m7500/7500\u001b[0m \u001b[32m━━━━━━━━━━━━━━━━━━━━\u001b[0m\u001b[37m\u001b[0m \u001b[1m40s\u001b[0m 3ms/step - loss: 1.0799 - val_loss: 1.1002\n",
            "0.0055999733333333334\n",
            "0.7270017999999999\n",
            "Epoch 19/20\n",
            "\u001b[1m7500/7500\u001b[0m \u001b[32m━━━━━━━━━━━━━━━━━━━━\u001b[0m\u001b[37m\u001b[0m \u001b[1m42s\u001b[0m 3ms/step - loss: 1.0800 - val_loss: 1.1061\n",
            "0.005799973333333333\n",
            "0.7135018\n",
            "Epoch 20/20\n",
            "\u001b[1m7500/7500\u001b[0m \u001b[32m━━━━━━━━━━━━━━━━━━━━\u001b[0m\u001b[37m\u001b[0m \u001b[1m23s\u001b[0m 3ms/step - loss: 1.0798 - val_loss: 1.1021\n"
          ]
        }
      ],
      "source": [
        "# model 2: 0.97-0.7 (CLR=0.002-0.006)\n",
        "model = tf.keras.Sequential()\n",
        "\n",
        "for i in range(5):\n",
        "    model.add(tf.keras.layers.Dense(50, activation='relu'))\n",
        "    model.add(tf.keras.layers.BatchNormalization(input_shape=X_train.shape[1:]))\n",
        "\n",
        "model.add(tf.keras.layers.Dense(1))\n",
        "\n",
        "model.compile(\n",
        "    loss=root_mean_squared_error,\n",
        "    optimizer=tf.keras.optimizers.SGD(learning_rate=0.002, weight_decay=1e-6, momentum=0.97),\n",
        "    )\n",
        "\n",
        "n_epochs = 20\n",
        "batch_size = 128\n",
        "iterations = math.ceil(len(X_train) / batch_size) * n_epochs\n",
        "\n",
        "callbacks = [CyclicMomentumScheduler(\n",
        "                         iterations, cyclic_mom=True, cyclic_lr=True,\n",
        "                         start_lr=0.002, max_lr=0.006,\n",
        "                         start_mom=0.97, final_mom=0.7)]\n",
        "\n",
        "history10 = model.fit(X_train, y_train, epochs=n_epochs, batch_size=batch_size,\n",
        "                    validation_data=(X_test, y_test),\n",
        "                     callbacks=callbacks)"
      ]
    },
    {
      "cell_type": "code",
      "execution_count": 6,
      "metadata": {
        "colab": {
          "base_uri": "https://localhost:8080/",
          "height": 470
        },
        "id": "reQbLG6wbDXE",
        "outputId": "dbfc71e1-8492-4f5c-9a98-8598c55dc14d"
      },
      "outputs": [
        {
          "output_type": "display_data",
          "data": {
            "text/plain": [
              "<Figure size 800x500 with 1 Axes>"
            ],
            "image/png": "[encoded data removed]"
          },
          "metadata": {}
        }
      ],
      "source": [
        "import matplotlib.pyplot as plt\n",
        "\n",
        "plt.figure(figsize=(8, 5))\n",
        "\n",
        "plt.plot(history9.history['val_loss'], 'b-', label='mom=0.9 (LR=0.007)')\n",
        "plt.plot(history10.history['val_loss'], 'r-', label='mom=0.97-0.7 (CLR=0.001-0.007)')\n",
        "\n",
        "plt.xlabel('Epochs')\n",
        "plt.ylabel('Loss')\n",
        "plt.xlim([0, 20])\n",
        "plt.ylim([1, 3])\n",
        "plt.legend()\n",
        "plt.show()"
      ]
    }
  ],
  "metadata": {
    "language_info": {
      "name": "python"
    },
    "colab": {
      "provenance": [],
      "gpuType": "T4"
    },
    "accelerator": "GPU",
    "kernelspec": {
      "name": "python3",
      "display_name": "Python 3"
    }
  },
  "nbformat": 4,
  "nbformat_minor": 0
}