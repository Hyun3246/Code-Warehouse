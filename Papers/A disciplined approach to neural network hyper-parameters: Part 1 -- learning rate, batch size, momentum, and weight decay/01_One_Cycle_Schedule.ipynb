{
  "nbformat": 4,
  "nbformat_minor": 0,
  "metadata": {
    "colab": {
      "provenance": [],
      "gpuType": "T4"
    },
    "kernelspec": {
      "name": "python3",
      "display_name": "Python 3"
    },
    "language_info": {
      "name": "python"
    },
    "accelerator": "GPU"
  },
  "cells": [
    {
      "cell_type": "markdown",
      "source": [
        "## DataSet Loading"
      ],
      "metadata": {
        "id": "89DXMqRNOlaF"
      }
    },
    {
      "cell_type": "code",
      "source": [
        "import pandas as pd\n",
        "import tensorflow as tf\n",
        "import numpy as np\n",
        "\n",
        "df = pd.read_csv('/content/sample_data/07_train.csv')\n",
        "\n",
        "from sklearn.model_selection import train_test_split\n",
        "\n",
        "train_set, test_set = train_test_split(df, test_size=0.2, random_state=42)\n",
        "\n",
        "# split target and features\n",
        "X_train = train_set.drop('Premium Amount', axis=1)\n",
        "y_train = train_set['Premium Amount'].copy()\n",
        "X_test = test_set.drop('Premium Amount', axis=1)\n",
        "y_test = test_set['Premium Amount'].copy()\n",
        "\n",
        "X_train = np.array(X_train)\n",
        "y_train = np.array(y_train)\n",
        "X_test = np.array(X_test)\n",
        "y_test = np.array(y_test)"
      ],
      "metadata": {
        "id": "nffZhg23OlEo"
      },
      "execution_count": 18,
      "outputs": []
    },
    {
      "cell_type": "markdown",
      "source": [
        "## 1 Cycle Scheduling"
      ],
      "metadata": {
        "id": "t3lAT0Y485-w"
      }
    },
    {
      "cell_type": "code",
      "source": [
        "from tensorflow import keras\n",
        "import tensorflow.keras.backend as K"
      ],
      "metadata": {
        "id": "v4oJ6ZFgF1a-"
      },
      "execution_count": 19,
      "outputs": []
    },
    {
      "cell_type": "code",
      "source": [
        "class OneCycleScheduler(tf.keras.callbacks.Callback):\n",
        "    def __init__(self, iterations, max_lr=1e-3, start_lr=None, last_iterations=None, last_lr=None):\n",
        "        self.iterations = iterations\n",
        "        self.max_lr = max_lr\n",
        "        self.start_lr = start_lr or max_lr / 10\n",
        "        self.last_iterations = last_iterations or iterations // 10 + 1\n",
        "        self.half_iteration = (iterations - self.last_iterations) // 2\n",
        "        self.last_lr = last_lr or self.start_lr / 1000\n",
        "        self.iteration = 0\n",
        "\n",
        "    def _interpolate(self, iter1, iter2, lr1, lr2):\n",
        "        slope = (lr2 - lr1) / (iter2 - iter1)\n",
        "        delta = self.iteration - iter1\n",
        "        return delta * slope + lr1\n",
        "\n",
        "    def on_batch_begin(self, batch, logs=None):\n",
        "        if self.iteration < self.half_iteration:\n",
        "            lr = self._interpolate(0, self.half_iteration, self.start_lr, self.max_lr)\n",
        "        elif self.iteration < 2 * self.half_iteration:\n",
        "            lr = self._interpolate(self.half_iteration, 2 * self.half_iteration, self.max_lr, self.start_lr)\n",
        "        else:\n",
        "            lr = self._interpolate(2 * self.half_iteration, self.iterations, self.start_lr, self.last_lr)\n",
        "\n",
        "        self.iteration += 1\n",
        "        lr = float(lr)\n",
        "        self.model.optimizer.learning_rate.assign(lr)"
      ],
      "metadata": {
        "id": "Reo9F58RA36W"
      },
      "execution_count": 20,
      "outputs": []
    },
    {
      "cell_type": "code",
      "source": [
        "def root_mean_squared_error(y_true, y_pred):\n",
        "    return tf.sqrt(tf.reduce_mean(tf.square(y_pred - y_true)))"
      ],
      "metadata": {
        "id": "UWHmdB6kGexD"
      },
      "execution_count": 15,
      "outputs": []
    },
    {
      "cell_type": "code",
      "source": [
        "# normal model\n",
        "model = tf.keras.Sequential()\n",
        "\n",
        "for i in range(5):\n",
        "    model.add(tf.keras.layers.Dense(50, activation='relu'))\n",
        "    model.add(tf.keras.layers.BatchNormalization(input_shape=X_train.shape[1:]))\n",
        "\n",
        "model.add(tf.keras.layers.Dense(1))\n",
        "\n",
        "model.compile(\n",
        "    loss=root_mean_squared_error,\n",
        "    optimizer=tf.keras.optimizers.Adam(learning_rate=0.001),\n",
        "    )\n",
        "\n",
        "n_epochs = 20\n",
        "batch_size = 128\n",
        "\n",
        "# basic model\n",
        "history1 = model.fit(X_train, y_train, epochs=n_epochs, batch_size=batch_size,\n",
        "                    validation_data=(X_test, y_test))"
      ],
      "metadata": {
        "id": "6ljI6m7XF-tl",
        "colab": {
          "base_uri": "https://localhost:8080/"
        },
        "outputId": "15dd712b-3ce8-4aee-b31a-224201b23514"
      },
      "execution_count": 22,
      "outputs": [
        {
          "output_type": "stream",
          "name": "stderr",
          "text": [
            "/usr/local/lib/python3.10/dist-packages/keras/src/layers/normalization/batch_normalization.py:143: UserWarning: Do not pass an `input_shape`/`input_dim` argument to a layer. When using Sequential models, prefer using an `Input(shape)` object as the first layer in the model instead.\n",
            "  super().__init__(**kwargs)\n"
          ]
        },
        {
          "output_type": "stream",
          "name": "stdout",
          "text": [
            "Epoch 1/20\n",
            "\u001b[1m7500/7500\u001b[0m \u001b[32m━━━━━━━━━━━━━━━━━━━━\u001b[0m\u001b[37m\u001b[0m \u001b[1m26s\u001b[0m 3ms/step - loss: 1.5998 - val_loss: 1.1293\n",
            "Epoch 2/20\n",
            "\u001b[1m7500/7500\u001b[0m \u001b[32m━━━━━━━━━━━━━━━━━━━━\u001b[0m\u001b[37m\u001b[0m \u001b[1m38s\u001b[0m 3ms/step - loss: 1.0858 - val_loss: 1.1132\n",
            "Epoch 3/20\n",
            "\u001b[1m7500/7500\u001b[0m \u001b[32m━━━━━━━━━━━━━━━━━━━━\u001b[0m\u001b[37m\u001b[0m \u001b[1m22s\u001b[0m 3ms/step - loss: 1.0864 - val_loss: 1.2197\n",
            "Epoch 4/20\n",
            "\u001b[1m7500/7500\u001b[0m \u001b[32m━━━━━━━━━━━━━━━━━━━━\u001b[0m\u001b[37m\u001b[0m \u001b[1m41s\u001b[0m 3ms/step - loss: 1.0845 - val_loss: 1.0917\n",
            "Epoch 5/20\n",
            "\u001b[1m7500/7500\u001b[0m \u001b[32m━━━━━━━━━━━━━━━━━━━━\u001b[0m\u001b[37m\u001b[0m \u001b[1m22s\u001b[0m 3ms/step - loss: 1.0804 - val_loss: 1.0787\n",
            "Epoch 6/20\n",
            "\u001b[1m7500/7500\u001b[0m \u001b[32m━━━━━━━━━━━━━━━━━━━━\u001b[0m\u001b[37m\u001b[0m \u001b[1m20s\u001b[0m 3ms/step - loss: 1.0788 - val_loss: 1.1550\n",
            "Epoch 7/20\n",
            "\u001b[1m7500/7500\u001b[0m \u001b[32m━━━━━━━━━━━━━━━━━━━━\u001b[0m\u001b[37m\u001b[0m \u001b[1m22s\u001b[0m 3ms/step - loss: 1.0785 - val_loss: 1.0834\n",
            "Epoch 8/20\n",
            "\u001b[1m7500/7500\u001b[0m \u001b[32m━━━━━━━━━━━━━━━━━━━━\u001b[0m\u001b[37m\u001b[0m \u001b[1m42s\u001b[0m 3ms/step - loss: 1.0787 - val_loss: 1.0881\n",
            "Epoch 9/20\n",
            "\u001b[1m7500/7500\u001b[0m \u001b[32m━━━━━━━━━━━━━━━━━━━━\u001b[0m\u001b[37m\u001b[0m \u001b[1m19s\u001b[0m 3ms/step - loss: 1.0785 - val_loss: 1.0861\n",
            "Epoch 10/20\n",
            "\u001b[1m7500/7500\u001b[0m \u001b[32m━━━━━━━━━━━━━━━━━━━━\u001b[0m\u001b[37m\u001b[0m \u001b[1m23s\u001b[0m 3ms/step - loss: 1.0766 - val_loss: 1.0938\n",
            "Epoch 11/20\n",
            "\u001b[1m7500/7500\u001b[0m \u001b[32m━━━━━━━━━━━━━━━━━━━━\u001b[0m\u001b[37m\u001b[0m \u001b[1m40s\u001b[0m 3ms/step - loss: 1.0762 - val_loss: 1.0751\n",
            "Epoch 12/20\n",
            "\u001b[1m7500/7500\u001b[0m \u001b[32m━━━━━━━━━━━━━━━━━━━━\u001b[0m\u001b[37m\u001b[0m \u001b[1m43s\u001b[0m 3ms/step - loss: 1.0741 - val_loss: 1.1509\n",
            "Epoch 13/20\n",
            "\u001b[1m7500/7500\u001b[0m \u001b[32m━━━━━━━━━━━━━━━━━━━━\u001b[0m\u001b[37m\u001b[0m \u001b[1m42s\u001b[0m 3ms/step - loss: 1.0726 - val_loss: 1.0822\n",
            "Epoch 14/20\n",
            "\u001b[1m7500/7500\u001b[0m \u001b[32m━━━━━━━━━━━━━━━━━━━━\u001b[0m\u001b[37m\u001b[0m \u001b[1m20s\u001b[0m 3ms/step - loss: 1.0738 - val_loss: 1.0801\n",
            "Epoch 15/20\n",
            "\u001b[1m7500/7500\u001b[0m \u001b[32m━━━━━━━━━━━━━━━━━━━━\u001b[0m\u001b[37m\u001b[0m \u001b[1m22s\u001b[0m 3ms/step - loss: 1.0725 - val_loss: 1.0703\n",
            "Epoch 16/20\n",
            "\u001b[1m7500/7500\u001b[0m \u001b[32m━━━━━━━━━━━━━━━━━━━━\u001b[0m\u001b[37m\u001b[0m \u001b[1m22s\u001b[0m 3ms/step - loss: 1.0715 - val_loss: 1.0773\n",
            "Epoch 17/20\n",
            "\u001b[1m7500/7500\u001b[0m \u001b[32m━━━━━━━━━━━━━━━━━━━━\u001b[0m\u001b[37m\u001b[0m \u001b[1m38s\u001b[0m 3ms/step - loss: 1.0723 - val_loss: 1.0988\n",
            "Epoch 18/20\n",
            "\u001b[1m7500/7500\u001b[0m \u001b[32m━━━━━━━━━━━━━━━━━━━━\u001b[0m\u001b[37m\u001b[0m \u001b[1m21s\u001b[0m 3ms/step - loss: 1.0690 - val_loss: 1.2707\n",
            "Epoch 19/20\n",
            "\u001b[1m7500/7500\u001b[0m \u001b[32m━━━━━━━━━━━━━━━━━━━━\u001b[0m\u001b[37m\u001b[0m \u001b[1m20s\u001b[0m 3ms/step - loss: 1.0723 - val_loss: 1.0788\n",
            "Epoch 20/20\n",
            "\u001b[1m7500/7500\u001b[0m \u001b[32m━━━━━━━━━━━━━━━━━━━━\u001b[0m\u001b[37m\u001b[0m \u001b[1m24s\u001b[0m 3ms/step - loss: 1.0711 - val_loss: 1.0659\n"
          ]
        }
      ]
    },
    {
      "cell_type": "code",
      "source": [
        "# Training with 1CycleScheduler\n",
        "import math\n",
        "\n",
        "model = tf.keras.Sequential()\n",
        "\n",
        "for i in range(5):\n",
        "    model.add(tf.keras.layers.Dense(50, activation='relu'))\n",
        "    model.add(tf.keras.layers.BatchNormalization(input_shape=X_train.shape[1:]))\n",
        "\n",
        "model.add(tf.keras.layers.Dense(1))\n",
        "\n",
        "model.compile(\n",
        "    loss=root_mean_squared_error,\n",
        "    optimizer=tf.keras.optimizers.Adam(),\n",
        "    )\n",
        "\n",
        "n_epochs = 20\n",
        "batch_size = 128\n",
        "iterations = math.ceil(len(X_train) / batch_size) * n_epochs\n",
        "\n",
        "onecycle = OneCycleScheduler(iterations, max_lr=0.03, start_lr=0.001)\n",
        "history2 = model.fit(X_train, y_train, epochs=n_epochs, batch_size=batch_size,\n",
        "                    validation_data=(X_test, y_test),\n",
        "                    callbacks=[onecycle])"
      ],
      "metadata": {
        "colab": {
          "base_uri": "https://localhost:8080/"
        },
        "id": "KnbHIx_2XyCp",
        "outputId": "a6bfffab-924a-4d62-f689-b2cae6c68922"
      },
      "execution_count": 24,
      "outputs": [
        {
          "output_type": "stream",
          "name": "stdout",
          "text": [
            "Epoch 1/20\n",
            "\u001b[1m7500/7500\u001b[0m \u001b[32m━━━━━━━━━━━━━━━━━━━━\u001b[0m\u001b[37m\u001b[0m \u001b[1m52s\u001b[0m 4ms/step - loss: 1.6019 - val_loss: 1.1999\n",
            "Epoch 2/20\n",
            "\u001b[1m7500/7500\u001b[0m \u001b[32m━━━━━━━━━━━━━━━━━━━━\u001b[0m\u001b[37m\u001b[0m \u001b[1m28s\u001b[0m 4ms/step - loss: 1.0914 - val_loss: 1.1437\n",
            "Epoch 3/20\n",
            "\u001b[1m7500/7500\u001b[0m \u001b[32m━━━━━━━━━━━━━━━━━━━━\u001b[0m\u001b[37m\u001b[0m \u001b[1m26s\u001b[0m 3ms/step - loss: 1.0904 - val_loss: 1.3466\n",
            "Epoch 4/20\n",
            "\u001b[1m7500/7500\u001b[0m \u001b[32m━━━━━━━━━━━━━━━━━━━━\u001b[0m\u001b[37m\u001b[0m \u001b[1m27s\u001b[0m 4ms/step - loss: 1.0911 - val_loss: 1.0969\n",
            "Epoch 5/20\n",
            "\u001b[1m7500/7500\u001b[0m \u001b[32m━━━━━━━━━━━━━━━━━━━━\u001b[0m\u001b[37m\u001b[0m \u001b[1m25s\u001b[0m 3ms/step - loss: 1.0887 - val_loss: 1.1055\n",
            "Epoch 6/20\n",
            "\u001b[1m7500/7500\u001b[0m \u001b[32m━━━━━━━━━━━━━━━━━━━━\u001b[0m\u001b[37m\u001b[0m \u001b[1m27s\u001b[0m 4ms/step - loss: 1.0854 - val_loss: 1.1018\n",
            "Epoch 7/20\n",
            "\u001b[1m7500/7500\u001b[0m \u001b[32m━━━━━━━━━━━━━━━━━━━━\u001b[0m\u001b[37m\u001b[0m \u001b[1m27s\u001b[0m 4ms/step - loss: 1.0850 - val_loss: 1.0862\n",
            "Epoch 8/20\n",
            "\u001b[1m7500/7500\u001b[0m \u001b[32m━━━━━━━━━━━━━━━━━━━━\u001b[0m\u001b[37m\u001b[0m \u001b[1m40s\u001b[0m 4ms/step - loss: 1.0865 - val_loss: 1.1192\n",
            "Epoch 9/20\n",
            "\u001b[1m7500/7500\u001b[0m \u001b[32m━━━━━━━━━━━━━━━━━━━━\u001b[0m\u001b[37m\u001b[0m \u001b[1m40s\u001b[0m 3ms/step - loss: 1.0831 - val_loss: 1.2884\n",
            "Epoch 10/20\n",
            "\u001b[1m7500/7500\u001b[0m \u001b[32m━━━━━━━━━━━━━━━━━━━━\u001b[0m\u001b[37m\u001b[0m \u001b[1m23s\u001b[0m 3ms/step - loss: 1.0864 - val_loss: 1.1391\n",
            "Epoch 11/20\n",
            "\u001b[1m7500/7500\u001b[0m \u001b[32m━━━━━━━━━━━━━━━━━━━━\u001b[0m\u001b[37m\u001b[0m \u001b[1m24s\u001b[0m 3ms/step - loss: 1.0813 - val_loss: 17.3775\n",
            "Epoch 12/20\n",
            "\u001b[1m7500/7500\u001b[0m \u001b[32m━━━━━━━━━━━━━━━━━━━━\u001b[0m\u001b[37m\u001b[0m \u001b[1m25s\u001b[0m 3ms/step - loss: 1.0791 - val_loss: 4.3255\n",
            "Epoch 13/20\n",
            "\u001b[1m7500/7500\u001b[0m \u001b[32m━━━━━━━━━━━━━━━━━━━━\u001b[0m\u001b[37m\u001b[0m \u001b[1m26s\u001b[0m 3ms/step - loss: 1.0778 - val_loss: 1.2363\n",
            "Epoch 14/20\n",
            "\u001b[1m7500/7500\u001b[0m \u001b[32m━━━━━━━━━━━━━━━━━━━━\u001b[0m\u001b[37m\u001b[0m \u001b[1m23s\u001b[0m 3ms/step - loss: 1.0768 - val_loss: 9908.6338\n",
            "Epoch 15/20\n",
            "\u001b[1m7500/7500\u001b[0m \u001b[32m━━━━━━━━━━━━━━━━━━━━\u001b[0m\u001b[37m\u001b[0m \u001b[1m43s\u001b[0m 3ms/step - loss: 1.0779 - val_loss: 60.0658\n",
            "Epoch 16/20\n",
            "\u001b[1m7500/7500\u001b[0m \u001b[32m━━━━━━━━━━━━━━━━━━━━\u001b[0m\u001b[37m\u001b[0m \u001b[1m41s\u001b[0m 3ms/step - loss: 1.0758 - val_loss: 257278.1406\n",
            "Epoch 17/20\n",
            "\u001b[1m7500/7500\u001b[0m \u001b[32m━━━━━━━━━━━━━━━━━━━━\u001b[0m\u001b[37m\u001b[0m \u001b[1m26s\u001b[0m 3ms/step - loss: 1.0763 - val_loss: 6446.7095\n",
            "Epoch 18/20\n",
            "\u001b[1m7500/7500\u001b[0m \u001b[32m━━━━━━━━━━━━━━━━━━━━\u001b[0m\u001b[37m\u001b[0m \u001b[1m41s\u001b[0m 4ms/step - loss: 1.0749 - val_loss: 26.6853\n",
            "Epoch 19/20\n",
            "\u001b[1m7500/7500\u001b[0m \u001b[32m━━━━━━━━━━━━━━━━━━━━\u001b[0m\u001b[37m\u001b[0m \u001b[1m42s\u001b[0m 4ms/step - loss: 1.0734 - val_loss: 1086.4243\n",
            "Epoch 20/20\n",
            "\u001b[1m7500/7500\u001b[0m \u001b[32m━━━━━━━━━━━━━━━━━━━━\u001b[0m\u001b[37m\u001b[0m \u001b[1m41s\u001b[0m 4ms/step - loss: 1.0726 - val_loss: 4.7190\n"
          ]
        }
      ]
    },
    {
      "cell_type": "code",
      "source": [
        "print(history1.history['val_loss'])\n",
        "print(history2.history['val_loss'])"
      ],
      "metadata": {
        "colab": {
          "base_uri": "https://localhost:8080/"
        },
        "id": "GGsDnpn0qdVW",
        "outputId": "b9238ce4-9b19-441e-f611-7e3d8605c272"
      },
      "execution_count": 36,
      "outputs": [
        {
          "output_type": "stream",
          "name": "stdout",
          "text": [
            "[1.129286289215088, 1.1132228374481201, 1.2196557521820068, 1.0916907787322998, 1.078676462173462, 1.1549798250198364, 1.0833852291107178, 1.0881357192993164, 1.086142897605896, 1.0937581062316895, 1.0750592947006226, 1.150895595550537, 1.0822464227676392, 1.0801446437835693, 1.0702552795410156, 1.0773307085037231, 1.0988152027130127, 1.2706904411315918, 1.078755259513855, 1.0658586025238037]\n",
            "[1.1999413967132568, 1.143746256828308, 1.3466241359710693, 1.0968706607818604, 1.1055026054382324, 1.1018459796905518, 1.0861947536468506, 1.1191543340682983, 1.288356900215149, 1.1391289234161377, 17.377534866333008, 4.325497627258301, 1.2362875938415527, 9908.6337890625, 60.06583786010742, 257278.140625, 6446.70947265625, 26.68531036376953, 1086.42431640625, 4.718968868255615]\n"
          ]
        }
      ]
    },
    {
      "cell_type": "code",
      "source": [
        "import matplotlib.pyplot as plt\n",
        "import pandas as pd\n",
        "\n",
        "plt.figure(figsize=(8, 5))\n",
        "\n",
        "plt.plot(history1.history['val_loss'], 'r--', label='Normal')\n",
        "plt.plot(history2.history['val_loss'], 'b-', label='1Cycle')\n",
        "plt.xlabel('Epochs')\n",
        "plt.ylabel('Loss')\n",
        "plt.xlim([0, 20])\n",
        "plt.ylim([1, 3])\n",
        "plt.legend()\n",
        "plt.show()"
      ],
      "metadata": {
        "id": "68sZJOqdIffw",
        "colab": {
          "base_uri": "https://localhost:8080/",
          "height": 470
        },
        "outputId": "1e985a1c-a012-4b20-d6e7-30f2740c2bc8"
      },
      "execution_count": 44,
      "outputs": [
        {
          "output_type": "display_data",
          "data": {
            "text/plain": [
              "<Figure size 800x500 with 1 Axes>"
            ],
            "image/png": "[encoded data removed]"
          },
          "metadata": {}
        }
      ]
    }
  ]
}
