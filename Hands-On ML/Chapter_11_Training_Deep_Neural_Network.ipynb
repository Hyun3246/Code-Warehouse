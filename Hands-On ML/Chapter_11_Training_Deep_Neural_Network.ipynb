{
  "nbformat": 4,
  "nbformat_minor": 0,
  "metadata": {
    "colab": {
      "provenance": []
    },
    "kernelspec": {
      "name": "python3",
      "display_name": "Python 3"
    },
    "language_info": {
      "name": "python"
    }
  },
  "cells": [
    {
      "cell_type": "markdown",
      "source": [
        "## Vanishing Gradient, Exploding Gradient"
      ],
      "metadata": {
        "id": "L7k_wCcWhZSn"
      }
    },
    {
      "cell_type": "markdown",
      "source": [
        "### Glorot & He Initialization"
      ],
      "metadata": {
        "id": "-WOFrQIvhhdB"
      }
    },
    {
      "cell_type": "code",
      "execution_count": 1,
      "metadata": {
        "id": "dtEDP5a-hD-v"
      },
      "outputs": [],
      "source": [
        "import tensorflow as tf\n",
        "\n",
        "dense = tf.keras.layers.Dense(50, activation='relu', kernel_initializer='he_normal')"
      ]
    },
    {
      "cell_type": "code",
      "source": [
        "he_avg_init = tf.keras.initializers.VarianceScaling(scale=2, mode='fan_avg',\n",
        "                                                    distribution='uniform')\n",
        "dense = tf.keras.layers.Dense(50, activation='sigmoid',\n",
        "                              kernel_initializer=he_avg_init)"
      ],
      "metadata": {
        "id": "MwAfnCNahyBn"
      },
      "execution_count": 2,
      "outputs": []
    },
    {
      "cell_type": "markdown",
      "source": [
        "### Leaky ReLU, ELU, SELU"
      ],
      "metadata": {
        "id": "V91YdXZViwBW"
      }
    },
    {
      "cell_type": "code",
      "source": [
        "leaky_relu = tf.keras.layers.LeakyReLU(alpha=0.2)\n",
        "dense = tf.keras.layers.Dense(50, activation=leaky_relu,\n",
        "                              kernel_initializer=\"he_normal\")"
      ],
      "metadata": {
        "colab": {
          "base_uri": "https://localhost:8080/"
        },
        "id": "0xeHjbJfiHUH",
        "outputId": "e1dfeeee-ad87-4e37-8f34-bc0a118a6526"
      },
      "execution_count": 3,
      "outputs": [
        {
          "output_type": "stream",
          "name": "stderr",
          "text": [
            "/usr/local/lib/python3.10/dist-packages/keras/src/layers/activations/leaky_relu.py:41: UserWarning: Argument `alpha` is deprecated. Use `negative_slope` instead.\n",
            "  warnings.warn(\n"
          ]
        }
      ]
    },
    {
      "cell_type": "code",
      "source": [
        "model = tf.keras.models.Sequential([\n",
        "    # [...]  # 다른 층\n",
        "    tf.keras.layers.Dense(50, kernel_initializer=\"he_normal\"),  # 활성화 함수 없음\n",
        "    tf.keras.layers.LeakyReLU(alpha=0.2),  # 별도의 층으로 활성화 함수 추가\n",
        "    # [...]  # 다른 층\n",
        "])"
      ],
      "metadata": {
        "id": "PMwi4wxzjDk-"
      },
      "execution_count": 4,
      "outputs": []
    }
  ]
}