{
  "nbformat": 4,
  "nbformat_minor": 0,
  "metadata": {
    "colab": {
      "provenance": []
    },
    "kernelspec": {
      "name": "python3",
      "display_name": "Python 3"
    },
    "language_info": {
      "name": "python"
    }
  },
  "cells": [
    {
      "cell_type": "code",
      "execution_count": 1,
      "metadata": {
        "id": "8RylJzEXdPrl"
      },
      "outputs": [],
      "source": [
        "import numpy as np"
      ]
    },
    {
      "cell_type": "code",
      "source": [
        "A = np.array([\n",
        "    [60, 5.5, 1],\n",
        "    [65, 5.0, 0],\n",
        "    [55, 6.0, 1],\n",
        "    [50, 5.0, 1]\n",
        "    ])\n",
        "b = np.array([[66, 74, 78, 72]])\n",
        "b.reshape(-1, 1)\n",
        "\n",
        "A.shape, b.shape"
      ],
      "metadata": {
        "colab": {
          "base_uri": "https://localhost:8080/"
        },
        "id": "kjyPfTFDf8uh",
        "outputId": "b996dc52-8050-44c0-fe1c-5263782c908e"
      },
      "execution_count": 12,
      "outputs": [
        {
          "output_type": "execute_result",
          "data": {
            "text/plain": [
              "((4, 3), (1, 4))"
            ]
          },
          "metadata": {},
          "execution_count": 12
        }
      ]
    },
    {
      "cell_type": "code",
      "source": [
        "def least_squares(A, b):\n",
        "    return np.linalg.inv(np.dot(A.T, A)) @ A.T @ b.T"
      ],
      "metadata": {
        "id": "TTL5pNe2gKSD"
      },
      "execution_count": 13,
      "outputs": []
    },
    {
      "cell_type": "code",
      "source": [
        "least_squares(A, b)"
      ],
      "metadata": {
        "colab": {
          "base_uri": "https://localhost:8080/"
        },
        "id": "KCgLYA_YhbQ3",
        "outputId": "cf99ca6d-5399-46d6-a440-790c112fb3c5"
      },
      "execution_count": 14,
      "outputs": [
        {
          "output_type": "execute_result",
          "data": {
            "text/plain": [
              "array([[ -0.15231317],\n",
              "       [ 16.58362989],\n",
              "       [-10.83274021]])"
            ]
          },
          "metadata": {},
          "execution_count": 14
        }
      ]
    },
    {
      "cell_type": "code",
      "source": [
        "def gram_schmidt(A):\n",
        "    A[:, 0] /= np.linalg.norm(A[:, 0])\n",
        "    for i in range(1, A.shape[1]):\n",
        "        for j in range(i):\n",
        "            A[:, i] -= (np.dot(A[:, i], A[:, j]) / (np.dot(A[:, j], A[:, j]))) * A[:, j]\n",
        "        A[:, i] /= np.linalg.norm(A[:, i])\n",
        "    return A"
      ],
      "metadata": {
        "id": "HN1UkA7jhdYc"
      },
      "execution_count": 41,
      "outputs": []
    },
    {
      "cell_type": "code",
      "source": [
        "A = np.array([\n",
        "    [1.0, 2.0, 3.0],\n",
        "    [-1.0, 0.0, -3.0],\n",
        "    [0.0, -2.0, 3.0]\n",
        "])\n",
        "\n",
        "Q = gram_schmidt(A)\n",
        "Q"
      ],
      "metadata": {
        "colab": {
          "base_uri": "https://localhost:8080/"
        },
        "id": "sZL8h2zVkRK7",
        "outputId": "2049279e-571c-45da-b83c-bde182a6df0d"
      },
      "execution_count": 51,
      "outputs": [
        {
          "output_type": "execute_result",
          "data": {
            "text/plain": [
              "array([[ 0.70710678,  0.40824829,  0.57735027],\n",
              "       [-0.70710678,  0.40824829,  0.57735027],\n",
              "       [ 0.        , -0.81649658,  0.57735027]])"
            ]
          },
          "metadata": {},
          "execution_count": 51
        }
      ]
    },
    {
      "cell_type": "code",
      "source": [
        "Q.T @ Q"
      ],
      "metadata": {
        "colab": {
          "base_uri": "https://localhost:8080/"
        },
        "id": "U0kYCcciru_M",
        "outputId": "1d11bcbc-a7cd-4498-fa50-f6620cee15ab"
      },
      "execution_count": 50,
      "outputs": [
        {
          "output_type": "execute_result",
          "data": {
            "text/plain": [
              "array([[ 1.00000000e+00,  2.45142679e-17, -1.77961928e-17],\n",
              "       [ 2.45142679e-17,  1.00000000e+00, -2.21943272e-17],\n",
              "       [-1.77961928e-17, -2.21943272e-17,  1.00000000e+00]])"
            ]
          },
          "metadata": {},
          "execution_count": 50
        }
      ]
    },
    {
      "cell_type": "code",
      "source": [
        "def qr_decomposition(A):\n",
        "    Q = gram_schmidt(A)\n",
        "    R = Q.T @ A\n",
        "    return Q, R"
      ],
      "metadata": {
        "id": "B1rLEJR1kzmL"
      },
      "execution_count": 53,
      "outputs": []
    },
    {
      "cell_type": "code",
      "source": [
        "A = np.array([\n",
        "    [1, 0, 0],\n",
        "    [1, 1, 0],\n",
        "    [1, 1, 1],\n",
        "    [1, 1, 1]\n",
        "], dtype=float)\n",
        "\n",
        "Q, R = qr_decomposition(A)\n",
        "Q, R"
      ],
      "metadata": {
        "colab": {
          "base_uri": "https://localhost:8080/"
        },
        "id": "z-CKd6FVk64W",
        "outputId": "a89afd7b-0518-4d7b-805c-e5378b1961d5"
      },
      "execution_count": 54,
      "outputs": [
        {
          "output_type": "execute_result",
          "data": {
            "text/plain": [
              "(array([[ 0.5       , -0.8660254 ,  0.        ],\n",
              "        [ 0.5       ,  0.28867513, -0.81649658],\n",
              "        [ 0.5       ,  0.28867513,  0.40824829],\n",
              "        [ 0.5       ,  0.28867513,  0.40824829]]),\n",
              " array([[ 1.00000000e+00,  5.55111512e-17, -5.55111512e-17],\n",
              "        [ 5.55111512e-17,  1.00000000e+00, -2.43538951e-17],\n",
              "        [-5.55111512e-17, -2.43538951e-17,  1.00000000e+00]]))"
            ]
          },
          "metadata": {},
          "execution_count": 54
        }
      ]
    },
    {
      "cell_type": "code",
      "source": [
        "numpy_q, numpy_r = np.linalg.qr(A)"
      ],
      "metadata": {
        "id": "z7ZiURR0lIx2"
      },
      "execution_count": 21,
      "outputs": []
    },
    {
      "cell_type": "code",
      "source": [
        "numpy_r"
      ],
      "metadata": {
        "colab": {
          "base_uri": "https://localhost:8080/"
        },
        "id": "3bUONyU7l5kt",
        "outputId": "be06db05-ccfd-49b7-c0ec-1b6003bdfe77"
      },
      "execution_count": 25,
      "outputs": [
        {
          "output_type": "execute_result",
          "data": {
            "text/plain": [
              "array([[-1.00000000e+00, -1.11022302e-16,  9.43406321e-17],\n",
              "       [ 0.00000000e+00, -1.00000000e+00,  2.22044605e-16],\n",
              "       [ 0.00000000e+00,  0.00000000e+00, -1.00000000e+00]])"
            ]
          },
          "metadata": {},
          "execution_count": 25
        }
      ]
    }
  ]
}