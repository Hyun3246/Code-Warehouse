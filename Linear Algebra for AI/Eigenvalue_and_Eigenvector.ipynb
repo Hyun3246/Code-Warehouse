{
  "nbformat": 4,
  "nbformat_minor": 0,
  "metadata": {
    "colab": {
      "provenance": []
    },
    "kernelspec": {
      "name": "python3",
      "display_name": "Python 3"
    },
    "language_info": {
      "name": "python"
    }
  },
  "cells": [
    {
      "cell_type": "code",
      "execution_count": 13,
      "metadata": {
        "id": "f_E96rKqWRz4"
      },
      "outputs": [],
      "source": [
        "import numpy as np\n",
        "import numpy.linalg as la\n",
        "from numpy.linalg import eig\n",
        "from numpy.linalg import inv"
      ]
    },
    {
      "cell_type": "code",
      "source": [
        "import time"
      ],
      "metadata": {
        "id": "wOzOb-2tWnCW"
      },
      "execution_count": 2,
      "outputs": []
    },
    {
      "cell_type": "code",
      "source": [
        "A = np.array([[4, 0, -2], [2, 5, 4], [0, 0, 5]])\n",
        "A"
      ],
      "metadata": {
        "colab": {
          "base_uri": "https://localhost:8080/"
        },
        "id": "1AgaDFvxW3qF",
        "outputId": "cb1c3e46-6686-4d0a-d6d9-39c8e2319892"
      },
      "execution_count": 3,
      "outputs": [
        {
          "output_type": "execute_result",
          "data": {
            "text/plain": [
              "array([[ 4,  0, -2],\n",
              "       [ 2,  5,  4],\n",
              "       [ 0,  0,  5]])"
            ]
          },
          "metadata": {},
          "execution_count": 3
        }
      ]
    },
    {
      "cell_type": "code",
      "source": [
        "eig_val, eig_vec = eig(A)"
      ],
      "metadata": {
        "id": "nqJI8dEiW6R-"
      },
      "execution_count": 4,
      "outputs": []
    },
    {
      "cell_type": "code",
      "source": [
        "eig_val"
      ],
      "metadata": {
        "colab": {
          "base_uri": "https://localhost:8080/"
        },
        "id": "i8SRA_YCW-3X",
        "outputId": "988e2f25-7d1c-4d7c-afaf-9b90ad0422a2"
      },
      "execution_count": 5,
      "outputs": [
        {
          "output_type": "execute_result",
          "data": {
            "text/plain": [
              "array([5., 4., 5.])"
            ]
          },
          "metadata": {},
          "execution_count": 5
        }
      ]
    },
    {
      "cell_type": "code",
      "source": [
        "eig_vec"
      ],
      "metadata": {
        "colab": {
          "base_uri": "https://localhost:8080/"
        },
        "id": "Ovbz8qyXXAUo",
        "outputId": "dfeb7743-1dad-439d-8f25-1879a06ad859"
      },
      "execution_count": 6,
      "outputs": [
        {
          "output_type": "execute_result",
          "data": {
            "text/plain": [
              "array([[ 0.        ,  0.4472136 , -0.89442719],\n",
              "       [ 1.        , -0.89442719,  0.        ],\n",
              "       [ 0.        ,  0.        ,  0.4472136 ]])"
            ]
          },
          "metadata": {},
          "execution_count": 6
        }
      ]
    },
    {
      "cell_type": "code",
      "source": [
        "D = np.diag(eig_val)\n",
        "D"
      ],
      "metadata": {
        "colab": {
          "base_uri": "https://localhost:8080/"
        },
        "id": "ZBmShkDuXCNs",
        "outputId": "cefe3472-e5f4-4acc-ef08-095c9f1ef2d6"
      },
      "execution_count": 8,
      "outputs": [
        {
          "output_type": "execute_result",
          "data": {
            "text/plain": [
              "array([[5., 0., 0.],\n",
              "       [0., 4., 0.],\n",
              "       [0., 0., 5.]])"
            ]
          },
          "metadata": {},
          "execution_count": 8
        }
      ]
    },
    {
      "cell_type": "code",
      "source": [
        "S = eig_vec\n",
        "S"
      ],
      "metadata": {
        "colab": {
          "base_uri": "https://localhost:8080/"
        },
        "id": "QYzTl0jdXGC-",
        "outputId": "375e4276-89ad-4f87-e139-bb864543982c"
      },
      "execution_count": 9,
      "outputs": [
        {
          "output_type": "execute_result",
          "data": {
            "text/plain": [
              "array([[ 0.        ,  0.4472136 , -0.89442719],\n",
              "       [ 1.        , -0.89442719,  0.        ],\n",
              "       [ 0.        ,  0.        ,  0.4472136 ]])"
            ]
          },
          "metadata": {},
          "execution_count": 9
        }
      ]
    },
    {
      "cell_type": "code",
      "source": [
        "# A = SDS^{-1}\n",
        "S.dot(D).dot(inv(S))"
      ],
      "metadata": {
        "colab": {
          "base_uri": "https://localhost:8080/"
        },
        "id": "gaQOFTewXKBc",
        "outputId": "dce5866b-7633-4efe-f442-c04fa17b78fd"
      },
      "execution_count": 10,
      "outputs": [
        {
          "output_type": "execute_result",
          "data": {
            "text/plain": [
              "array([[ 4.,  0., -2.],\n",
              "       [ 2.,  5.,  4.],\n",
              "       [ 0.,  0.,  5.]])"
            ]
          },
          "metadata": {},
          "execution_count": 10
        }
      ]
    },
    {
      "cell_type": "code",
      "source": [
        "# matrix power\n",
        "la.matrix_power(A, 5)"
      ],
      "metadata": {
        "colab": {
          "base_uri": "https://localhost:8080/"
        },
        "id": "1N_29W2bXb66",
        "outputId": "9e962c77-a3e4-4dcc-d112-bdfa564ecbb3"
      },
      "execution_count": 17,
      "outputs": [
        {
          "output_type": "execute_result",
          "data": {
            "text/plain": [
              "array([[ 1024,     0, -4202],\n",
              "       [ 4202,  3125,  8404],\n",
              "       [    0,     0,  3125]])"
            ]
          },
          "metadata": {},
          "execution_count": 17
        }
      ]
    },
    {
      "cell_type": "code",
      "source": [
        "D_power_5 = np.diag(eig_val**5)\n",
        "D_power_5"
      ],
      "metadata": {
        "colab": {
          "base_uri": "https://localhost:8080/"
        },
        "id": "98AhfjCPX4Ko",
        "outputId": "0a3e7722-1994-4bc3-8d3a-c12ad6cce7c7"
      },
      "execution_count": 18,
      "outputs": [
        {
          "output_type": "execute_result",
          "data": {
            "text/plain": [
              "array([[3125.,    0.,    0.],\n",
              "       [   0., 1024.,    0.],\n",
              "       [   0.,    0., 3125.]])"
            ]
          },
          "metadata": {},
          "execution_count": 18
        }
      ]
    },
    {
      "cell_type": "code",
      "source": [
        "S.dot(D_power_5).dot(inv(S))"
      ],
      "metadata": {
        "colab": {
          "base_uri": "https://localhost:8080/"
        },
        "id": "q_QQ_yzAX-Ed",
        "outputId": "8a9600f1-d2cb-43c4-bf7a-f7992ef9f279"
      },
      "execution_count": 19,
      "outputs": [
        {
          "output_type": "execute_result",
          "data": {
            "text/plain": [
              "array([[ 1024.,     0., -4202.],\n",
              "       [ 4202.,  3125.,  8404.],\n",
              "       [    0.,     0.,  3125.]])"
            ]
          },
          "metadata": {},
          "execution_count": 19
        }
      ]
    },
    {
      "cell_type": "code",
      "source": [
        "# Compare time\n",
        "A = np.array([[4., 4, 2, 3, -2], [0, 1, -2, -2, 2], [6, 12, 11, 2, -4], [9, 20, 10, 10, -6], [15, 28, 14, 5, -3]])\n",
        "\n",
        "A = A + A.T\n",
        "A = A / np.expand_dims(np.sum(A, axis=1), axis=1)\n",
        "print(A)\n",
        "\n",
        "x = np.random.rand(5)\n",
        "n_times = 1000000\n",
        "\n",
        "y = x\n",
        "start_time = time.time()\n",
        "for i in range(0, n_times):\n",
        "    y = A.dot(y)\n",
        "end_time = time.time()\n",
        "elapse_time = end_time - start_time\n",
        "print(y)\n",
        "print(elapse_time)"
      ],
      "metadata": {
        "colab": {
          "base_uri": "https://localhost:8080/"
        },
        "id": "9dTnd_uSX_ju",
        "outputId": "36ebbb7f-22ef-40ba-d92c-ad17dd7221ed"
      },
      "execution_count": 20,
      "outputs": [
        {
          "output_type": "stream",
          "name": "stdout",
          "text": [
            "[[ 0.17777778  0.08888889  0.17777778  0.26666667  0.28888889]\n",
            " [ 0.0625      0.03125     0.15625     0.28125     0.46875   ]\n",
            " [ 0.12903226  0.16129032  0.35483871  0.19354839  0.16129032]\n",
            " [ 0.19672131  0.29508197  0.19672131  0.32786885 -0.01639344]\n",
            " [ 0.2826087   0.65217391  0.2173913  -0.02173913 -0.13043478]]\n",
            "[0.56887156 0.56887156 0.56887156 0.56887156 0.56887156]\n",
            "0.9709928035736084\n"
          ]
        }
      ]
    },
    {
      "cell_type": "code",
      "source": [
        "eig_val, eig_vec = eig(A)\n",
        "D = np.diag(eig_val)\n",
        "S = eig_vec\n",
        "\n",
        "# matrix multiplication using eigendecomposition\n",
        "start_time = time.time()\n",
        "y = S.dot((eig_val**n_times)*la.solve(S, x))\n",
        "end_time = time.time()\n",
        "elapse_time = end_time - start_time\n",
        "print(y)\n",
        "print(elapse_time)"
      ],
      "metadata": {
        "colab": {
          "base_uri": "https://localhost:8080/"
        },
        "id": "CRfEb7QzZEIx",
        "outputId": "4beb2e1a-f6f6-42c0-f867-902fb529c6a6"
      },
      "execution_count": 22,
      "outputs": [
        {
          "output_type": "stream",
          "name": "stdout",
          "text": [
            "[0.56887156 0.56887156 0.56887156 0.56887156 0.56887156]\n",
            "0.0043981075286865234\n"
          ]
        }
      ]
    }
  ]
}