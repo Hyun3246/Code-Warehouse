{
  "nbformat": 4,
  "nbformat_minor": 0,
  "metadata": {
    "colab": {
      "provenance": [],
      "authorship_tag": "ABX9TyNL6Ac+YsvgTC0oP5PPpyFX",
      "include_colab_link": true
    },
    "kernelspec": {
      "name": "python3",
      "display_name": "Python 3"
    },
    "language_info": {
      "name": "python"
    }
  },
  "cells": [
    {
      "cell_type": "markdown",
      "metadata": {
        "id": "view-in-github",
        "colab_type": "text"
      },
      "source": [
        "<a href=\"https://colab.research.google.com/github/Hyun3246/Code-Warehouse/blob/main/%EC%8B%A4%EC%8A%B5_3_Linear_Regression_and_How_to_minimize_cost%EB%A5%BC_TensorFlow_%EB%A1%9C_%EA%B5%AC%ED%98%84%ED%95%98%EA%B8%B0.ipynb\" target=\"_parent\"><img src=\"https://colab.research.google.com/assets/colab-badge.svg\" alt=\"Open In Colab\"/></a>"
      ]
    },
    {
      "cell_type": "markdown",
      "source": [
        "## Tensorflow 미사용"
      ],
      "metadata": {
        "id": "PKuVzfeaw_G-"
      }
    },
    {
      "cell_type": "code",
      "execution_count": 2,
      "metadata": {
        "colab": {
          "base_uri": "https://localhost:8080/",
          "height": 710
        },
        "id": "AkT2LtXjvTKu",
        "outputId": "7e35842b-325d-4c60-f513-94df85cd3a29"
      },
      "outputs": [
        {
          "output_type": "stream",
          "name": "stdout",
          "text": [
            "-3.000 |   74.66667\n",
            "-2.429 |   54.85714\n",
            "-1.857 |   38.09524\n",
            "-1.286 |   24.38095\n",
            "-0.714 |   13.71429\n",
            "-0.143 |    6.09524\n",
            " 0.429 |    1.52381\n",
            " 1.000 |    0.00000\n",
            " 1.571 |    1.52381\n",
            " 2.143 |    6.09524\n",
            " 2.714 |   13.71429\n",
            " 3.286 |   24.38095\n",
            " 3.857 |   38.09524\n",
            " 4.429 |   54.85714\n",
            " 5.000 |   74.66667\n"
          ]
        },
        {
          "output_type": "display_data",
          "data": {
            "text/plain": [
              "<Figure size 640x480 with 1 Axes>"
            ],
            "image/png": "[encoded data removed]"
          },
          "metadata": {}
        }
      ],
      "source": [
        "import numpy as np\n",
        "import matplotlib.pyplot as plt\n",
        "\n",
        "X = np.array([1, 2, 3])\n",
        "Y = np.array([1, 2, 3])\n",
        "\n",
        "# 비용함수\n",
        "def cost_func(W, X, Y):\n",
        "    c = 0\n",
        "    for i in range(len(X)):\n",
        "        c += (W * X[i] - Y[i]) ** 2\n",
        "    return c / len(X)\n",
        "\n",
        "cost_list = []\n",
        "\n",
        "for feed_W in np.linspace(-3, 5, num=15):\n",
        "    curr_cost = cost_func(feed_W, X, Y)\n",
        "    cost_list.append(curr_cost)\n",
        "    print(\"{:6.3f} | {:10.5f}\".format(feed_W, curr_cost))\n",
        "\n",
        "plt.plot(np.linspace(-3, 5, num=15), cost_list)\n",
        "plt.show()"
      ]
    },
    {
      "cell_type": "markdown",
      "source": [
        "## Tensorflow 사용"
      ],
      "metadata": {
        "id": "2K1Qr5PQxDbD"
      }
    },
    {
      "cell_type": "code",
      "source": [
        "import tensorflow as tf\n",
        "\n",
        "tf.random.set_seed(0)\n",
        "\n",
        "X = [1., 2., 3., 4.]\n",
        "Y = [1., 3., 5., 7.]\n",
        "\n",
        "W = tf.Variable(tf.random.normal([1], -100., 100.))\n",
        "\n",
        "for step in range(1000):\n",
        "    hypothesis = W * X\n",
        "    cost = tf.reduce_mean(tf.square(hypothesis - Y))\n",
        "\n",
        "    alpha = 0.01\n",
        "    gradient = tf.reduce_mean(tf.math.multiply(tf.math.multiply(W, X) - Y, X))\n",
        "    descent = W - tf.math.multiply(alpha, gradient)\n",
        "    W.assign(descent)\n",
        "\n",
        "    if step % 10 == 0:\n",
        "        print('{:5} | {:10.4f} | {:10.6f}'.format(step, cost.numpy(), W.numpy()[0]))"
      ],
      "metadata": {
        "colab": {
          "base_uri": "https://localhost:8080/"
        },
        "id": "PFflUYhiwfG6",
        "outputId": "490e94ea-cc79-4103-a94c-212f33c53cb3"
      },
      "execution_count": 8,
      "outputs": [
        {
          "output_type": "stream",
          "name": "stdout",
          "text": [
            "    0 | 18332.2188 |  47.398293\n",
            "   10 |  3855.3564 |  22.638384\n",
            "   20 |   810.9046 |  11.283927\n",
            "   30 |   170.6631 |   6.076973\n",
            "   40 |    36.0217 |   3.689155\n",
            "   50 |     7.7069 |   2.594144\n",
            "   60 |     1.7524 |   2.091991\n",
            "   70 |     0.5001 |   1.861713\n",
            "   80 |     0.2368 |   1.756112\n",
            "   90 |     0.1814 |   1.707684\n",
            "  100 |     0.1698 |   1.685477\n",
            "  110 |     0.1673 |   1.675292\n",
            "  120 |     0.1668 |   1.670622\n",
            "  130 |     0.1667 |   1.668481\n",
            "  140 |     0.1667 |   1.667498\n",
            "  150 |     0.1667 |   1.667048\n",
            "  160 |     0.1667 |   1.666842\n",
            "  170 |     0.1667 |   1.666747\n",
            "  180 |     0.1667 |   1.666703\n",
            "  190 |     0.1667 |   1.666684\n",
            "  200 |     0.1667 |   1.666674\n",
            "  210 |     0.1667 |   1.666670\n",
            "  220 |     0.1667 |   1.666668\n",
            "  230 |     0.1667 |   1.666667\n",
            "  240 |     0.1667 |   1.666667\n",
            "  250 |     0.1667 |   1.666667\n",
            "  260 |     0.1667 |   1.666667\n",
            "  270 |     0.1667 |   1.666667\n",
            "  280 |     0.1667 |   1.666667\n",
            "  290 |     0.1667 |   1.666667\n",
            "  300 |     0.1667 |   1.666667\n",
            "  310 |     0.1667 |   1.666667\n",
            "  320 |     0.1667 |   1.666667\n",
            "  330 |     0.1667 |   1.666667\n",
            "  340 |     0.1667 |   1.666667\n",
            "  350 |     0.1667 |   1.666667\n",
            "  360 |     0.1667 |   1.666667\n",
            "  370 |     0.1667 |   1.666667\n",
            "  380 |     0.1667 |   1.666667\n",
            "  390 |     0.1667 |   1.666667\n",
            "  400 |     0.1667 |   1.666667\n",
            "  410 |     0.1667 |   1.666667\n",
            "  420 |     0.1667 |   1.666667\n",
            "  430 |     0.1667 |   1.666667\n",
            "  440 |     0.1667 |   1.666667\n",
            "  450 |     0.1667 |   1.666667\n",
            "  460 |     0.1667 |   1.666667\n",
            "  470 |     0.1667 |   1.666667\n",
            "  480 |     0.1667 |   1.666667\n",
            "  490 |     0.1667 |   1.666667\n",
            "  500 |     0.1667 |   1.666667\n",
            "  510 |     0.1667 |   1.666667\n",
            "  520 |     0.1667 |   1.666667\n",
            "  530 |     0.1667 |   1.666667\n",
            "  540 |     0.1667 |   1.666667\n",
            "  550 |     0.1667 |   1.666667\n",
            "  560 |     0.1667 |   1.666667\n",
            "  570 |     0.1667 |   1.666667\n",
            "  580 |     0.1667 |   1.666667\n",
            "  590 |     0.1667 |   1.666667\n",
            "  600 |     0.1667 |   1.666667\n",
            "  610 |     0.1667 |   1.666667\n",
            "  620 |     0.1667 |   1.666667\n",
            "  630 |     0.1667 |   1.666667\n",
            "  640 |     0.1667 |   1.666667\n",
            "  650 |     0.1667 |   1.666667\n",
            "  660 |     0.1667 |   1.666667\n",
            "  670 |     0.1667 |   1.666667\n",
            "  680 |     0.1667 |   1.666667\n",
            "  690 |     0.1667 |   1.666667\n",
            "  700 |     0.1667 |   1.666667\n",
            "  710 |     0.1667 |   1.666667\n",
            "  720 |     0.1667 |   1.666667\n",
            "  730 |     0.1667 |   1.666667\n",
            "  740 |     0.1667 |   1.666667\n",
            "  750 |     0.1667 |   1.666667\n",
            "  760 |     0.1667 |   1.666667\n",
            "  770 |     0.1667 |   1.666667\n",
            "  780 |     0.1667 |   1.666667\n",
            "  790 |     0.1667 |   1.666667\n",
            "  800 |     0.1667 |   1.666667\n",
            "  810 |     0.1667 |   1.666667\n",
            "  820 |     0.1667 |   1.666667\n",
            "  830 |     0.1667 |   1.666667\n",
            "  840 |     0.1667 |   1.666667\n",
            "  850 |     0.1667 |   1.666667\n",
            "  860 |     0.1667 |   1.666667\n",
            "  870 |     0.1667 |   1.666667\n",
            "  880 |     0.1667 |   1.666667\n",
            "  890 |     0.1667 |   1.666667\n",
            "  900 |     0.1667 |   1.666667\n",
            "  910 |     0.1667 |   1.666667\n",
            "  920 |     0.1667 |   1.666667\n",
            "  930 |     0.1667 |   1.666667\n",
            "  940 |     0.1667 |   1.666667\n",
            "  950 |     0.1667 |   1.666667\n",
            "  960 |     0.1667 |   1.666667\n",
            "  970 |     0.1667 |   1.666667\n",
            "  980 |     0.1667 |   1.666667\n",
            "  990 |     0.1667 |   1.666667\n"
          ]
        }
      ]
    }
  ]
}
