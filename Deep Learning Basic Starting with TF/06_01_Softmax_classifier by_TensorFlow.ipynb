{
  "nbformat": 4,
  "nbformat_minor": 0,
  "metadata": {
    "colab": {
      "provenance": []
    },
    "kernelspec": {
      "name": "python3",
      "display_name": "Python 3"
    },
    "language_info": {
      "name": "python"
    }
  },
  "cells": [
    {
      "cell_type": "code",
      "execution_count": 1,
      "metadata": {
        "colab": {
          "base_uri": "https://localhost:8080/"
        },
        "id": "f0ctcFrVJsi_",
        "outputId": "c18c849e-5ef6-4529-97af-ec9be7db3db3"
      },
      "outputs": [
        {
          "output_type": "stream",
          "name": "stdout",
          "text": [
            "2.17.0\n"
          ]
        }
      ],
      "source": [
        "import tensorflow as tf\n",
        "import numpy as np\n",
        "\n",
        "print(tf.__version__)\n",
        "\n",
        "tf.random.set_seed(777)"
      ]
    },
    {
      "cell_type": "code",
      "source": [
        "x_data = [[1, 2, 1, 1],\n",
        "          [2, 1, 3, 2],\n",
        "          [3, 1, 3, 4],\n",
        "          [4, 1, 5, 5],\n",
        "          [1, 7, 5, 5],\n",
        "          [1, 2, 5, 6],\n",
        "          [1, 6, 6, 6],\n",
        "          [1, 7, 7, 7]]\n",
        "y_data = [[0, 0, 1],\n",
        "          [0, 0, 1],\n",
        "          [0, 0, 1],\n",
        "          [0, 1, 0],\n",
        "          [0, 1, 0],\n",
        "          [0, 1, 0],\n",
        "          [1, 0, 0],\n",
        "          [1, 0, 0]]\n",
        "\n",
        "x_data = np.asarray(x_data, dtype=np.float32)\n",
        "y_data = np.asarray(y_data, dtype=np.float32)"
      ],
      "metadata": {
        "id": "5JiLEuhiKFsc"
      },
      "execution_count": 3,
      "outputs": []
    },
    {
      "cell_type": "code",
      "source": [
        "nb_classes = 3\n",
        "\n",
        "print(x_data.shape)\n",
        "print(y_data.shape)"
      ],
      "metadata": {
        "colab": {
          "base_uri": "https://localhost:8080/"
        },
        "id": "BPSd8svnKJQU",
        "outputId": "47f3ae9b-a9c3-4ccf-b103-ba2654b5a65e"
      },
      "execution_count": 4,
      "outputs": [
        {
          "output_type": "stream",
          "name": "stdout",
          "text": [
            "(8, 4)\n",
            "(8, 3)\n"
          ]
        }
      ]
    },
    {
      "cell_type": "code",
      "source": [
        "# W와 b 세팅\n",
        "W = tf.Variable(tf.random.normal((4, nb_classes)), name='weight')\n",
        "b = tf.Variable(tf.random.normal((nb_classes,)), name='bias')\n",
        "variables = [W, b]\n",
        "\n",
        "print(W, b)"
      ],
      "metadata": {
        "colab": {
          "base_uri": "https://localhost:8080/"
        },
        "id": "caH4Ci-lKToM",
        "outputId": "819d57cd-e492-424b-dc95-6d813700b421"
      },
      "execution_count": 5,
      "outputs": [
        {
          "output_type": "stream",
          "name": "stdout",
          "text": [
            "<tf.Variable 'weight:0' shape=(4, 3) dtype=float32, numpy=\n",
            "array([[ 0.7706481 ,  0.37335402, -0.05576323],\n",
            "       [ 0.00358377, -0.5898363 ,  1.5702795 ],\n",
            "       [ 0.2460895 , -0.09918973,  1.4418385 ],\n",
            "       [ 0.3200988 ,  0.526784  , -0.7703731 ]], dtype=float32)> <tf.Variable 'bias:0' shape=(3,) dtype=float32, numpy=array([-1.3080608 , -0.13253094,  0.5513761 ], dtype=float32)>\n"
          ]
        }
      ]
    },
    {
      "cell_type": "code",
      "source": [
        "def hypothesis(X):\n",
        "    return tf.nn.softmax(tf.matmul(X, W) + b)\n",
        "\n",
        "print(hypothesis(x_data))"
      ],
      "metadata": {
        "colab": {
          "base_uri": "https://localhost:8080/"
        },
        "id": "CKu1C9_KKeAI",
        "outputId": "f1775876-e6ef-4fbf-bf40-c228055b53c8"
      },
      "execution_count": 6,
      "outputs": [
        {
          "output_type": "stream",
          "name": "stdout",
          "text": [
            "tf.Tensor(\n",
            "[[1.36571955e-02 7.90162291e-03 9.78441179e-01]\n",
            " [3.92597765e-02 1.70347411e-02 9.43705440e-01]\n",
            " [3.80385250e-01 1.67723149e-01 4.51891541e-01]\n",
            " [3.23390484e-01 5.90759404e-02 6.17533624e-01]\n",
            " [3.62997366e-06 6.20727221e-08 9.99996245e-01]\n",
            " [2.62520202e-02 1.07279625e-02 9.63019967e-01]\n",
            " [1.56525093e-05 4.21802724e-07 9.99983847e-01]\n",
            " [2.94076904e-06 3.81133241e-08 9.99996960e-01]], shape=(8, 3), dtype=float32)\n"
          ]
        }
      ]
    },
    {
      "cell_type": "code",
      "source": [
        "# softmax one-hot test\n",
        "sample_db = [[8,2,1,4]]\n",
        "sample_db = np.asarray(sample_db, dtype=np.float32)\n",
        "\n",
        "print(hypothesis(sample_db))"
      ],
      "metadata": {
        "colab": {
          "base_uri": "https://localhost:8080/"
        },
        "id": "p38Xk2R4KmyA",
        "outputId": "9d55dd86-0c46-4cf1-a584-468e32d0e497"
      },
      "execution_count": 7,
      "outputs": [
        {
          "output_type": "stream",
          "name": "stdout",
          "text": [
            "tf.Tensor([[0.9302204  0.06200533 0.00777428]], shape=(1, 3), dtype=float32)\n"
          ]
        }
      ]
    },
    {
      "cell_type": "code",
      "source": [
        "def cost_fn(X, Y):\n",
        "    logits = hypothesis(X)\n",
        "    cost = -tf.reduce_sum(Y * tf.math.log(logits), axis = 1)\n",
        "    cost_mean = tf.reduce_mean(cost)\n",
        "\n",
        "    return cost_mean\n",
        "\n",
        "print(cost_fn(x_data, y_data))"
      ],
      "metadata": {
        "colab": {
          "base_uri": "https://localhost:8080/"
        },
        "id": "Dewr5x0HKwAx",
        "outputId": "d766a4b3-7b0f-4b02-d25c-0d7d09d6e73c"
      },
      "execution_count": 8,
      "outputs": [
        {
          "output_type": "stream",
          "name": "stdout",
          "text": [
            "tf.Tensor(6.07932, shape=(), dtype=float32)\n"
          ]
        }
      ]
    },
    {
      "cell_type": "code",
      "source": [
        "x = tf.constant(3.0)\n",
        "\n",
        "with tf.GradientTape() as g:\n",
        "    g.watch(x)\n",
        "    y = x * x\n",
        "\n",
        "dy_dx = g.gradient(y, x)\n",
        "print(dy_dx)"
      ],
      "metadata": {
        "colab": {
          "base_uri": "https://localhost:8080/"
        },
        "id": "cUJVkIITLA-F",
        "outputId": "333220ae-8aa6-43fd-9e64-80b4f731f4ab"
      },
      "execution_count": 9,
      "outputs": [
        {
          "output_type": "stream",
          "name": "stdout",
          "text": [
            "tf.Tensor(6.0, shape=(), dtype=float32)\n"
          ]
        }
      ]
    },
    {
      "cell_type": "code",
      "source": [
        "def grad_fn(X, Y):\n",
        "    with tf.GradientTape() as tape:\n",
        "        loss = cost_fn(X, Y)\n",
        "        grads = tape.gradient(loss, variables)\n",
        "\n",
        "        return grads\n",
        "\n",
        "print(grad_fn(x_data, y_data))"
      ],
      "metadata": {
        "colab": {
          "base_uri": "https://localhost:8080/"
        },
        "id": "iAOjCoqLLo96",
        "outputId": "f9702156-ee4d-48ad-d2c7-3eaac11b28a2"
      },
      "execution_count": 11,
      "outputs": [
        {
          "output_type": "stream",
          "name": "stdout",
          "text": [
            "[<tf.Tensor: shape=(4, 3), dtype=float32, numpy=\n",
            "array([[ 0.06914607, -0.6509784 ,  0.5818323 ],\n",
            "       [-1.5221257 , -1.214863  ,  2.7369885 ],\n",
            "       [-1.2473829 , -1.7611003 ,  3.0084827 ],\n",
            "       [-1.2014607 , -1.8659232 ,  3.0673835 ]], dtype=float32)>, <tf.Tensor: shape=(3,), dtype=float32, numpy=array([-0.15212914, -0.342192  ,  0.49432108], dtype=float32)>]\n"
          ]
        }
      ]
    },
    {
      "cell_type": "code",
      "source": [
        "def fit(X, Y, epochs=2000, verbose=100):\n",
        "    optimizer = tf.keras.optimizers.SGD(learning_rate=0.1)\n",
        "\n",
        "    for i in range(epochs):\n",
        "        grads = grad_fn(X, Y)\n",
        "        optimizer.apply_gradients(zip(grads, variables))\n",
        "        if (i==0) | ((i+1)%verbose==0):\n",
        "            print('Loss at epoch %d: %f' %(i+1, cost_fn(X, Y).numpy()))\n",
        "\n",
        "fit(x_data, y_data)"
      ],
      "metadata": {
        "colab": {
          "base_uri": "https://localhost:8080/"
        },
        "id": "qA8vzHbqMHEW",
        "outputId": "82adfc35-b70d-450f-d9f2-226034a97d25"
      },
      "execution_count": 12,
      "outputs": [
        {
          "output_type": "stream",
          "name": "stdout",
          "text": [
            "Loss at epoch 1: 2.849417\n",
            "Loss at epoch 100: 0.684151\n",
            "Loss at epoch 200: 0.613813\n",
            "Loss at epoch 300: 0.558204\n",
            "Loss at epoch 400: 0.508306\n",
            "Loss at epoch 500: 0.461058\n",
            "Loss at epoch 600: 0.415072\n",
            "Loss at epoch 700: 0.369636\n",
            "Loss at epoch 800: 0.324533\n",
            "Loss at epoch 900: 0.280721\n",
            "Loss at epoch 1000: 0.246752\n",
            "Loss at epoch 1100: 0.232798\n",
            "Loss at epoch 1200: 0.221645\n",
            "Loss at epoch 1300: 0.211476\n",
            "Loss at epoch 1400: 0.202164\n",
            "Loss at epoch 1500: 0.193606\n",
            "Loss at epoch 1600: 0.185714\n",
            "Loss at epoch 1700: 0.178415\n",
            "Loss at epoch 1800: 0.171645\n",
            "Loss at epoch 1900: 0.165351\n",
            "Loss at epoch 2000: 0.159483\n"
          ]
        }
      ]
    },
    {
      "cell_type": "code",
      "source": [
        "# 정확도 체크\n",
        "sample_data = [[2,1,3,2]]\n",
        "sample_data = np.asarray(sample_data, dtype=np.float32)\n",
        "\n",
        "a = hypothesis(sample_data)\n",
        "\n",
        "print(a)\n",
        "print(tf.argmax(a, 1))"
      ],
      "metadata": {
        "colab": {
          "base_uri": "https://localhost:8080/"
        },
        "id": "oBHWwrvWM2-w",
        "outputId": "c285e2f2-7a0a-4913-972e-8f9dd0a1c84f"
      },
      "execution_count": 21,
      "outputs": [
        {
          "output_type": "stream",
          "name": "stdout",
          "text": [
            "tf.Tensor(\n",
            "[[0.23090686 0.7200088  0.04908434]\n",
            " [0.2187771  0.7384027  0.04282029]\n",
            " [0.20615774 0.7566084  0.03723383]\n",
            " [0.11932245 0.8698279  0.01084957]\n",
            " [0.16614637 0.8237168  0.01013677]\n",
            " [0.1334393  0.85745764 0.009103  ]\n",
            " [0.33841035 0.6489778  0.01261187]\n",
            " [0.42188144 0.5649803  0.01313805]], shape=(8, 3), dtype=float32)\n",
            "tf.Tensor([1 1 1 1 1 1 1 1], shape=(8,), dtype=int64)\n"
          ]
        }
      ]
    },
    {
      "cell_type": "code",
      "source": [
        "b = hypothesis(x_data)\n",
        "print(b)\n",
        "print(tf.argmax(b, 1))\n",
        "print(tf.argmax(y_data, 1))"
      ],
      "metadata": {
        "colab": {
          "base_uri": "https://localhost:8080/"
        },
        "id": "sON80VtRNNe3",
        "outputId": "b361bacc-fe8e-4796-bf08-b7e787cc9a6b"
      },
      "execution_count": 14,
      "outputs": [
        {
          "output_type": "stream",
          "name": "stdout",
          "text": [
            "tf.Tensor(\n",
            "[[2.1976039e-06 1.2331199e-03 9.9876475e-01]\n",
            " [1.1288594e-03 8.1546724e-02 9.1732436e-01]\n",
            " [2.2205660e-07 1.6418649e-01 8.3581328e-01]\n",
            " [6.3921934e-06 8.5045439e-01 1.4953916e-01]\n",
            " [2.6150793e-01 7.2644734e-01 1.2044546e-02]\n",
            " [1.3783264e-01 8.6213988e-01 2.7417602e-05]\n",
            " [7.4242103e-01 2.5754192e-01 3.6978636e-05]\n",
            " [9.2197543e-01 7.8024052e-02 6.0005920e-07]], shape=(8, 3), dtype=float32)\n",
            "tf.Tensor([2 2 2 1 1 1 0 0], shape=(8,), dtype=int64)\n",
            "tf.Tensor([2 2 2 1 1 1 0 0], shape=(8,), dtype=int64)\n"
          ]
        }
      ]
    }
  ]
}
