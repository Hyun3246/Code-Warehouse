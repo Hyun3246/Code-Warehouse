{
  "nbformat": 4,
  "nbformat_minor": 0,
  "metadata": {
    "colab": {
      "provenance": []
    },
    "kernelspec": {
      "name": "python3",
      "display_name": "Python 3"
    },
    "language_info": {
      "name": "python"
    }
  },
  "cells": [
    {
      "cell_type": "code",
      "source": [
        "import tensorflow as tf\n",
        "import numpy as np\n",
        "\n",
        "print(tf.__version__)\n",
        "\n",
        "tf.random.set_seed(777)  # for reproducibility"
      ],
      "metadata": {
        "colab": {
          "base_uri": "https://localhost:8080/"
        },
        "id": "qiRfClhkP9lA",
        "outputId": "866f4503-5b0f-45fd-e6a4-de715f64d325"
      },
      "execution_count": 2,
      "outputs": [
        {
          "output_type": "stream",
          "name": "stdout",
          "text": [
            "2.17.0\n"
          ]
        }
      ]
    },
    {
      "cell_type": "code",
      "source": [
        "xy = np.loadtxt('/content/drive/MyDrive/Colab Notebooks/data-04-zoo.csv', delimiter=',', dtype=np.float32)\n",
        "x_data = xy[:, 0:-1]\n",
        "y_data = xy[:, -1]\n",
        "\n",
        "nb_classes = 7\n",
        "\n",
        "# y data를 원-핫으로 바꾸기\n",
        "Y_one_hot = tf.one_hot(y_data.astype(np.int32), np_classes)\n",
        "\n",
        "print(x_data.shape, Y_one_hot.shape)"
      ],
      "metadata": {
        "colab": {
          "base_uri": "https://localhost:8080/"
        },
        "id": "f3z99kZOQamI",
        "outputId": "1c015aef-4beb-4fc6-f5fa-f1e721c56db0"
      },
      "execution_count": 6,
      "outputs": [
        {
          "output_type": "stream",
          "name": "stdout",
          "text": [
            "(101, 16) (101, 7)\n"
          ]
        }
      ]
    },
    {
      "cell_type": "code",
      "source": [
        "# 필요한 함수 구현\n",
        "W = tf.Variable(tf.random.normal((16, nb_classes)), name='weight')\n",
        "b = tf.Variable(tf.random.normal((nb_classes,)), name='bias')\n",
        "variables = [W, b]\n",
        "\n",
        "def logit_fn(X):\n",
        "  return tf.matmul(X, W) + b\n",
        "\n",
        "def hypothesis(X):\n",
        "    return tf.nn.softmax(logit_fn(X))\n",
        "\n",
        "def cost_fn(X, Y):\n",
        "    logits = logit_fn(X)\n",
        "    cost_i = tf.keras.losses.categorical_crossentropy(y_true=Y, y_pred=logits, from_logits=True)\n",
        "    cost = tf.reduce_mean(cost_i)\n",
        "    return cost\n",
        "\n",
        "def grad_fn(X, Y):\n",
        "    with tf.GradientTape() as tape:\n",
        "        loss = cost_fn(X, Y)\n",
        "        grads = tape.gradient(loss, variables)\n",
        "        return grads\n",
        "\n",
        "def prediction(X, Y):\n",
        "    pred = tf.argmax(hypothesis(X), 1)\n",
        "    correct_prediction = tf.equal(pred, tf.argmax(Y, 1))\n",
        "    accuracy = tf.reduce_mean(tf.cast(correct_prediction, tf.float32))\n",
        "\n",
        "    return accuracy"
      ],
      "metadata": {
        "id": "HIshTH_CQxVX"
      },
      "execution_count": 7,
      "outputs": []
    },
    {
      "cell_type": "code",
      "source": [
        "def fit(X, Y, epochs=1000, verbose=100):\n",
        "    optimizer = tf.keras.optimizers.SGD(learning_rate=0.1)\n",
        "\n",
        "    for i in range(epochs):\n",
        "        grads = grad_fn(X, Y)\n",
        "        optimizer.apply_gradients(zip(grads, variables))\n",
        "        if (i==0) | ((i+1)%verbose==0):\n",
        "#             print('Loss at epoch %d: %f' %(i+1, cost_fn(X, Y).numpy()))\n",
        "            acc = prediction(X, Y).numpy()\n",
        "            loss = cost_fn(X, Y).numpy()\n",
        "            print('Steps: {} Loss: {}, Acc: {}'.format(i+1, loss, acc))\n",
        "\n",
        "fit(x_data, Y_one_hot)"
      ],
      "metadata": {
        "colab": {
          "base_uri": "https://localhost:8080/"
        },
        "id": "QrtAJFjGSEbh",
        "outputId": "2c0c6e3a-f59b-4cd1-ffe2-995b3e5aab2b"
      },
      "execution_count": 8,
      "outputs": [
        {
          "output_type": "stream",
          "name": "stdout",
          "text": [
            "Steps: 1 Loss: 3.635028839111328, Acc: 0.1683168262243271\n",
            "Steps: 100 Loss: 0.5194157958030701, Acc: 0.7920792102813721\n",
            "Steps: 200 Loss: 0.31850090622901917, Acc: 0.9108911156654358\n",
            "Steps: 300 Loss: 0.23534876108169556, Acc: 0.9405940771102905\n",
            "Steps: 400 Loss: 0.18872138857841492, Acc: 0.9504950642585754\n",
            "Steps: 500 Loss: 0.158460333943367, Acc: 0.9504950642585754\n",
            "Steps: 600 Loss: 0.13703754544258118, Acc: 0.9900990128517151\n",
            "Steps: 700 Loss: 0.12098980695009232, Acc: 0.9900990128517151\n",
            "Steps: 800 Loss: 0.10847963392734528, Acc: 1.0\n",
            "Steps: 900 Loss: 0.09843041002750397, Acc: 1.0\n",
            "Steps: 1000 Loss: 0.09016557037830353, Acc: 1.0\n"
          ]
        }
      ]
    }
  ]
}