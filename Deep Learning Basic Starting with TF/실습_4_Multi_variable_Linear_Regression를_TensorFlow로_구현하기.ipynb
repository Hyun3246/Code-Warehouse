{
  "nbformat": 4,
  "nbformat_minor": 0,
  "metadata": {
    "colab": {
      "provenance": []
    },
    "kernelspec": {
      "name": "python3",
      "display_name": "Python 3"
    },
    "language_info": {
      "name": "python"
    }
  },
  "cells": [
    {
      "cell_type": "markdown",
      "source": [
        "## Matrix 미사용"
      ],
      "metadata": {
        "id": "QazcVwDrD2-a"
      }
    },
    {
      "cell_type": "code",
      "execution_count": null,
      "metadata": {
        "id": "JBrVHyqvDeJ7"
      },
      "outputs": [],
      "source": [
        "import tensorflow as tf\n",
        "tf.random.set_seed(0)"
      ]
    },
    {
      "cell_type": "code",
      "source": [
        "x1 = [ 73.,  93.,  89.,  96.,  73.]\n",
        "x2 = [ 80.,  88.,  91.,  98.,  66.]\n",
        "x3 = [ 75.,  93.,  90., 100.,  70.]\n",
        "Y  = [152., 185., 180., 196., 142.]\n",
        "\n",
        "w1 = tf.Variable(tf.random.normal([1]))\n",
        "w2 = tf.Variable(tf.random.normal([1]))\n",
        "w3 = tf.Variable(tf.random.normal([1]))\n",
        "b  = tf.Variable(tf.random.normal([1]))"
      ],
      "metadata": {
        "id": "gmYlRRVgEACa"
      },
      "execution_count": 6,
      "outputs": []
    },
    {
      "cell_type": "code",
      "source": [
        "learning_rate = 0.000001"
      ],
      "metadata": {
        "id": "Js0VF7nvEyC6"
      },
      "execution_count": 7,
      "outputs": []
    },
    {
      "cell_type": "code",
      "source": [
        "for i in range(1000 + 1):\n",
        "    with tf.GradientTape() as tape:\n",
        "        hypothesis = w1 * x1 + w2 * x2 + w3 * x3 + b\n",
        "        cost = tf.reduce_mean(tf.square(hypothesis - Y))\n",
        "\n",
        "    w1_grad, w2_grad, w3_grad, b_grad = tape.gradient(cost, [w1, w2, w3, b])\n",
        "\n",
        "    w1.assign_sub(learning_rate * w1_grad)\n",
        "    w2.assign_sub(learning_rate * w2_grad)\n",
        "    w3.assign_sub(learning_rate * w3_grad)\n",
        "    b.assign_sub(learning_rate * b_grad)\n",
        "\n",
        "    if i % 50 == 0:\n",
        "        print(\"{:5} | {:12.4f}\".format(i, cost.numpy()))"
      ],
      "metadata": {
        "id": "xe4-0L6lE6tt",
        "colab": {
          "base_uri": "https://localhost:8080/"
        },
        "outputId": "b5fb2b15-d0b1-4d70-e629-db1c40e5d141"
      },
      "execution_count": 9,
      "outputs": [
        {
          "output_type": "stream",
          "name": "stdout",
          "text": [
            "    0 |       9.6131\n",
            "   50 |       9.6037\n",
            "  100 |       9.5942\n",
            "  150 |       9.5848\n",
            "  200 |       9.5753\n",
            "  250 |       9.5658\n",
            "  300 |       9.5565\n",
            "  350 |       9.5470\n",
            "  400 |       9.5377\n",
            "  450 |       9.5283\n",
            "  500 |       9.5189\n",
            "  550 |       9.5096\n",
            "  600 |       9.5004\n",
            "  650 |       9.4911\n",
            "  700 |       9.4819\n",
            "  750 |       9.4727\n",
            "  800 |       9.4633\n",
            "  850 |       9.4543\n",
            "  900 |       9.4452\n",
            "  950 |       9.4361\n",
            " 1000 |       9.4269\n"
          ]
        }
      ]
    },
    {
      "cell_type": "markdown",
      "source": [
        "## Matrix 사용"
      ],
      "metadata": {
        "id": "Z22OVSTZRZQL"
      }
    },
    {
      "cell_type": "code",
      "source": [
        "import numpy as np\n",
        "\n",
        "data = np.array([\n",
        "    # X1,   X2,    X3,   y\n",
        "    [ 73.,  80.,  75., 152. ],\n",
        "    [ 93.,  88.,  93., 185. ],\n",
        "    [ 89.,  91.,  90., 180. ],\n",
        "    [ 96.,  98., 100., 196. ],\n",
        "    [ 73.,  66.,  70., 142. ]\n",
        "], dtype=np.float32)\n",
        "\n",
        "X = data[:, :-1]\n",
        "y = data[:, [-1]]\n",
        "\n",
        "W = tf.Variable(tf.random.normal([3, 1]))\n",
        "b = tf.Variable(tf.random.normal([1]))\n",
        "\n",
        "learning_rate = 0.000001\n",
        "\n",
        "def predict(X):\n",
        "    return tf.matmul(X, W) + b\n",
        "\n",
        "n_epochs = 2000\n",
        "\n",
        "for i in range(n_epochs + 1):\n",
        "    with tf.GradientTape() as tape:\n",
        "        cost = tf.reduce_mean((tf.square(predict(X) - y)))\n",
        "\n",
        "    W_grad, b_grad = tape.gradient(cost, [W, b])\n",
        "\n",
        "    W.assign_sub(learning_rate * W_grad)\n",
        "    b.assign_sub(learning_rate * b_grad)\n",
        "\n",
        "    if i % 100 == 0:\n",
        "        print(\"{:5} | {:10.4f}\".format(i, cost.numpy()))"
      ],
      "metadata": {
        "colab": {
          "base_uri": "https://localhost:8080/"
        },
        "id": "o0DSyki9RLsh",
        "outputId": "b21639e5-5afe-4aea-ced6-458b24e9f608"
      },
      "execution_count": 10,
      "outputs": [
        {
          "output_type": "stream",
          "name": "stdout",
          "text": [
            "    0 |  5455.5903\n",
            "  100 |    31.7443\n",
            "  200 |    30.9326\n",
            "  300 |    30.7894\n",
            "  400 |    30.6468\n",
            "  500 |    30.5055\n",
            "  600 |    30.3644\n",
            "  700 |    30.2242\n",
            "  800 |    30.0849\n",
            "  900 |    29.9463\n",
            " 1000 |    29.8081\n",
            " 1100 |    29.6710\n",
            " 1200 |    29.5348\n",
            " 1300 |    29.3989\n",
            " 1400 |    29.2641\n",
            " 1500 |    29.1299\n",
            " 1600 |    28.9961\n",
            " 1700 |    28.8634\n",
            " 1800 |    28.7313\n",
            " 1900 |    28.5997\n",
            " 2000 |    28.4689\n"
          ]
        }
      ]
    }
  ]
}