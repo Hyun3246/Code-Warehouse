{
  "nbformat": 4,
  "nbformat_minor": 0,
  "metadata": {
    "colab": {
      "provenance": [],
      "gpuType": "T4"
    },
    "kernelspec": {
      "name": "python3",
      "display_name": "Python 3"
    },
    "language_info": {
      "name": "python"
    },
    "accelerator": "GPU"
  },
  "cells": [
    {
      "cell_type": "code",
      "source": [
        "import numpy as np\n",
        "import matplotlib.pyplot as plt\n",
        "%matplotlib inline\n",
        "import tensorflow as tf"
      ],
      "metadata": {
        "id": "zehEsS3u_r8y"
      },
      "execution_count": 1,
      "outputs": []
    },
    {
      "cell_type": "code",
      "source": [
        "x_data = [[0, 0],\n",
        "          [0, 1],\n",
        "          [1, 0],\n",
        "          [1, 1]]\n",
        "y_data = [[0],\n",
        "          [1],\n",
        "          [1],\n",
        "          [0]]\n",
        "\n",
        "plt.scatter(x_data[0][0],x_data[0][1], c='red' , marker='^')\n",
        "plt.scatter(x_data[3][0],x_data[3][1], c='red' , marker='^')\n",
        "plt.scatter(x_data[1][0],x_data[1][1], c='blue' , marker='^')\n",
        "plt.scatter(x_data[2][0],x_data[2][1], c='blue' , marker='^')\n",
        "\n",
        "plt.xlabel('x1')\n",
        "plt.ylabel('x2')\n",
        "plt.show"
      ],
      "metadata": {
        "colab": {
          "base_uri": "https://localhost:8080/",
          "height": 618
        },
        "id": "J1ewPGYI_u-Z",
        "outputId": "eeb779d4-ee4b-406d-b977-5844c0fc3fd3"
      },
      "execution_count": 2,
      "outputs": [
        {
          "output_type": "execute_result",
          "data": {
            "text/plain": [
              "<function matplotlib.pyplot.show(close=None, block=None)>"
            ],
            "text/html": [
              "<div style=\"max-width:800px; border: 1px solid var(--colab-border-color);\"><style>\n",
              "      pre.function-repr-contents {\n",
              "        overflow-x: auto;\n",
              "        padding: 8px 12px;\n",
              "        max-height: 500px;\n",
              "      }\n",
              "\n",
              "      pre.function-repr-contents.function-repr-contents-collapsed {\n",
              "        cursor: pointer;\n",
              "        max-height: 100px;\n",
              "      }\n",
              "    </style>\n",
              "    <pre style=\"white-space: initial; background:\n",
              "         var(--colab-secondary-surface-color); padding: 8px 12px;\n",
              "         border-bottom: 1px solid var(--colab-border-color);\"><b>matplotlib.pyplot.show</b><br/>def show(*args, **kwargs)</pre><pre class=\"function-repr-contents function-repr-contents-collapsed\" style=\"\"><a class=\"filepath\" style=\"display:none\" href=\"#\">/usr/local/lib/python3.10/dist-packages/matplotlib/pyplot.py</a>Display all open figures.\n",
              "\n",
              "Parameters\n",
              "----------\n",
              "block : bool, optional\n",
              "    Whether to wait for all figures to be closed before returning.\n",
              "\n",
              "    If `True` block and run the GUI main loop until all figure windows\n",
              "    are closed.\n",
              "\n",
              "    If `False` ensure that all figure windows are displayed and return\n",
              "    immediately.  In this case, you are responsible for ensuring\n",
              "    that the event loop is running to have responsive figures.\n",
              "\n",
              "    Defaults to True in non-interactive mode and to False in interactive\n",
              "    mode (see `.pyplot.isinteractive`).\n",
              "\n",
              "See Also\n",
              "--------\n",
              "ion : Enable interactive mode, which shows / updates the figure after\n",
              "      every plotting command, so that calling ``show()`` is not necessary.\n",
              "ioff : Disable interactive mode.\n",
              "savefig : Save the figure to an image file instead of showing it on screen.\n",
              "\n",
              "Notes\n",
              "-----\n",
              "**Saving figures to file and showing a window at the same time**\n",
              "\n",
              "If you want an image file as well as a user interface window, use\n",
              "`.pyplot.savefig` before `.pyplot.show`. At the end of (a blocking)\n",
              "``show()`` the figure is closed and thus unregistered from pyplot. Calling\n",
              "`.pyplot.savefig` afterwards would save a new and thus empty figure. This\n",
              "limitation of command order does not apply if the show is non-blocking or\n",
              "if you keep a reference to the figure and use `.Figure.savefig`.\n",
              "\n",
              "**Auto-show in jupyter notebooks**\n",
              "\n",
              "The jupyter backends (activated via ``%matplotlib inline``,\n",
              "``%matplotlib notebook``, or ``%matplotlib widget``), call ``show()`` at\n",
              "the end of every cell by default. Thus, you usually don&#x27;t have to call it\n",
              "explicitly there.</pre>\n",
              "      <script>\n",
              "      if (google.colab.kernel.accessAllowed && google.colab.files && google.colab.files.view) {\n",
              "        for (const element of document.querySelectorAll('.filepath')) {\n",
              "          element.style.display = 'block'\n",
              "          element.onclick = (event) => {\n",
              "            event.preventDefault();\n",
              "            event.stopPropagation();\n",
              "            google.colab.files.view(element.textContent, 482);\n",
              "          };\n",
              "        }\n",
              "      }\n",
              "      for (const element of document.querySelectorAll('.function-repr-contents')) {\n",
              "        element.onclick = (event) => {\n",
              "          event.preventDefault();\n",
              "          event.stopPropagation();\n",
              "          element.classList.toggle('function-repr-contents-collapsed');\n",
              "        };\n",
              "      }\n",
              "      </script>\n",
              "      </div>"
            ]
          },
          "metadata": {},
          "execution_count": 2
        },
        {
          "output_type": "display_data",
          "data": {
            "text/plain": [
              "<Figure size 640x480 with 1 Axes>"
            ],
            "image/png": "[encoded data removed]"
          },
          "metadata": {}
        }
      ]
    },
    {
      "cell_type": "code",
      "source": [
        "dataset = tf.data.Dataset.from_tensor_slices((x_data, y_data)).batch(len(x_data))\n",
        "\n",
        "def preprocess_data(features, labels):\n",
        "    features = tf.cast(features, tf.float32)\n",
        "    labels = tf.cast(labels, tf.float32)\n",
        "    return features, labels"
      ],
      "metadata": {
        "id": "nHwTYk0nAAQa"
      },
      "execution_count": 11,
      "outputs": []
    },
    {
      "cell_type": "markdown",
      "source": [
        "## Logistic Regression으로 해결"
      ],
      "metadata": {
        "id": "qbHxkCVuCF7F"
      }
    },
    {
      "cell_type": "code",
      "source": [
        "W = tf.Variable(tf.zeros([2,1]), name='weight')\n",
        "b = tf.Variable(tf.zeros([1]), name='bias')\n",
        "print(\"W = {}, B = {}\".format(W.numpy(), b.numpy()))"
      ],
      "metadata": {
        "colab": {
          "base_uri": "https://localhost:8080/"
        },
        "id": "i_UpG2jkAQ8t",
        "outputId": "e080eff5-37d9-4bdd-e779-cdf6604b07dd"
      },
      "execution_count": 4,
      "outputs": [
        {
          "output_type": "stream",
          "name": "stdout",
          "text": [
            "W = [[0.]\n",
            " [0.]], B = [0.]\n"
          ]
        }
      ]
    },
    {
      "cell_type": "code",
      "source": [
        "# sigmoid 함수 가설 함수로 설정\n",
        "def logistic_regression(features):\n",
        "    hypothesis = tf.divide(1., 1. + tf.exp(tf.matmul(features, W) + b))\n",
        "    return hypothesis"
      ],
      "metadata": {
        "id": "6SuPXbK5AYlY"
      },
      "execution_count": 5,
      "outputs": []
    },
    {
      "cell_type": "code",
      "source": [
        "def loss_fn(hypothesis, features, labels):\n",
        "    cost = -tf.reduce_mean(labels * tf.math.log(logistic_regression(features)) + (1 - labels) * tf.math.log(1 - hypothesis))\n",
        "    return cost\n",
        "\n",
        "optimizer = tf.keras.optimizers.SGD(learning_rate=0.01)"
      ],
      "metadata": {
        "id": "nXQoHZV1ApHB"
      },
      "execution_count": 6,
      "outputs": []
    },
    {
      "cell_type": "code",
      "source": [
        "def accuracy_fn(hypothesis, labels):\n",
        "    predicted = tf.cast(hypothesis > 0.5, dtype=tf.float32)\n",
        "    accuracy = tf.reduce_mean(tf.cast(tf.equal(predicted, labels), dtype=tf.float32))\n",
        "    return accuracy"
      ],
      "metadata": {
        "id": "zK8ZbUVCA3-h"
      },
      "execution_count": 8,
      "outputs": []
    },
    {
      "cell_type": "code",
      "source": [
        "def grad(hypothesis, features, labels):\n",
        "    with tf.GradientTape() as tape:\n",
        "        loss_value = loss_fn(logistic_regression(features),features,labels)\n",
        "    return tape.gradient(loss_value, [W,b])"
      ],
      "metadata": {
        "id": "ExYi0gy3BjFf"
      },
      "execution_count": 9,
      "outputs": []
    },
    {
      "cell_type": "code",
      "source": [
        "epochs = 1001\n",
        "\n",
        "for step in range(epochs):\n",
        "    for features, labels in dataset:\n",
        "        features, labels = preprocess_data(features, labels)\n",
        "        grads = grad(logistic_regression(features), features, labels)\n",
        "        optimizer.apply_gradients(grads_and_vars=zip(grads, [W, b]))\n",
        "        if step % 100 == 0:\n",
        "            print(\"Iter: {}, Loss: {:.4f}\".format(step, loss_fn(logistic_regression(features),features,labels)))\n",
        "print(\"W = {}, B = {}\".format(W.numpy(), b.numpy()))\n",
        "x_data, y_data = preprocess_data(x_data, y_data)\n",
        "test_acc = accuracy_fn(logistic_regression(x_data),y_data)\n",
        "print(\"Testset Accuracy: {:.4f}\".format(test_acc))"
      ],
      "metadata": {
        "colab": {
          "base_uri": "https://localhost:8080/"
        },
        "id": "G4LNjeLyBL23",
        "outputId": "adbc1e95-a81f-45c8-f602-bec0350810b4"
      },
      "execution_count": 12,
      "outputs": [
        {
          "output_type": "stream",
          "name": "stdout",
          "text": [
            "Iter: 0, Loss: 0.6931\n",
            "Iter: 100, Loss: 0.6931\n",
            "Iter: 200, Loss: 0.6931\n",
            "Iter: 300, Loss: 0.6931\n",
            "Iter: 400, Loss: 0.6931\n",
            "Iter: 500, Loss: 0.6931\n",
            "Iter: 600, Loss: 0.6931\n",
            "Iter: 700, Loss: 0.6931\n",
            "Iter: 800, Loss: 0.6931\n",
            "Iter: 900, Loss: 0.6931\n",
            "Iter: 1000, Loss: 0.6931\n",
            "W = [[0.]\n",
            " [0.]], B = [0.]\n",
            "Testset Accuracy: 0.5000\n"
          ]
        }
      ]
    },
    {
      "cell_type": "markdown",
      "source": [
        "## 3 layers의 NN으로 해결"
      ],
      "metadata": {
        "id": "kOEiOlrHCL0M"
      }
    },
    {
      "cell_type": "code",
      "source": [
        "W1 = tf.Variable(tf.random.normal((2, 1)), name='weight1')\n",
        "b1 = tf.Variable(tf.random.normal((1,)), name='bias1')\n",
        "\n",
        "W2 = tf.Variable(tf.random.normal((2, 1)), name='weight2')\n",
        "b2 = tf.Variable(tf.random.normal((1,)), name='bias2')\n",
        "\n",
        "W3 = tf.Variable(tf.random.normal((2, 1)), name='weight3')\n",
        "b3 = tf.Variable(tf.random.normal((1,)), name='bias3')"
      ],
      "metadata": {
        "id": "Fpc2uFVVCSYO"
      },
      "execution_count": 13,
      "outputs": []
    },
    {
      "cell_type": "code",
      "source": [
        "def neural_net(features):\n",
        "    layer1 = tf.sigmoid(tf.matmul(features, W1) + b1)\n",
        "    layer2 = tf.sigmoid(tf.matmul(features, W2) + b2)\n",
        "    layer3 = tf.concat([layer1, layer2], -1)\n",
        "    layer3 = tf.reshape(layer3, shape = [-1, 2])\n",
        "    hypothesis = tf.sigmoid(tf.matmul(layer3, W3) + b3)\n",
        "    return hypothesis\n",
        "\n",
        "def loss_fn(hypothesis, labels):\n",
        "    cost = -tf.reduce_mean(labels * tf.math.log(hypothesis) + (1 - labels) * tf.math.log(1 - hypothesis))\n",
        "    return cost\n",
        "\n",
        "optimizer = tf.keras.optimizers.SGD(learning_rate=0.01)\n",
        "\n",
        "def accuracy_fn(hypothesis, labels):\n",
        "    predicted = tf.cast(hypothesis > 0.5, dtype=tf.float32)\n",
        "    accuracy = tf.reduce_mean(tf.cast(tf.equal(predicted, labels), dtype=tf.float32))\n",
        "    return accuracy\n",
        "\n",
        "def grad(hypothesis, features, labels):\n",
        "    with tf.GradientTape() as tape:\n",
        "        loss_value = loss_fn(neural_net(features),labels)\n",
        "    return tape.gradient(loss_value, [W1, W2, W3, b1, b2, b3])"
      ],
      "metadata": {
        "id": "NAh0NS-RCila"
      },
      "execution_count": 16,
      "outputs": []
    },
    {
      "cell_type": "code",
      "source": [
        "EPOCHS = 5000\n",
        "\n",
        "for step in range(EPOCHS):\n",
        "    for features, labels  in dataset:\n",
        "        features, labels = preprocess_data(features, labels)\n",
        "        grads = grad(neural_net(features), features, labels)\n",
        "        optimizer.apply_gradients(grads_and_vars=zip(grads,[W1, W2, W3, b1, b2, b3]))\n",
        "        if step % 5000 == 0:\n",
        "            print(\"Iter: {}, Loss: {:.4f}\".format(step, loss_fn(neural_net(features),labels)))\n",
        "x_data, y_data = preprocess_data(x_data, y_data)\n",
        "test_acc = accuracy_fn(neural_net(x_data),y_data)\n",
        "print(\"Testset Accuracy: {:.4f}\".format(test_acc))"
      ],
      "metadata": {
        "colab": {
          "base_uri": "https://localhost:8080/"
        },
        "id": "dqnRQM_uDBsB",
        "outputId": "759fc7cb-52a0-496a-b75e-85e878a828cb"
      },
      "execution_count": 18,
      "outputs": [
        {
          "output_type": "stream",
          "name": "stdout",
          "text": [
            "Iter: 0, Loss: 0.5915\n",
            "Testset Accuracy: 0.7500\n"
          ]
        }
      ]
    },
    {
      "cell_type": "markdown",
      "source": [
        "## Deep Neural Network로 해결"
      ],
      "metadata": {
        "id": "05s4gbKwEnj2"
      }
    },
    {
      "cell_type": "code",
      "source": [
        "dataset = tf.data.Dataset.from_tensor_slices((x_data, y_data)).batch(len(x_data))\n",
        "nb_classes = 10\n",
        "\n",
        "class wide_deep_nn():\n",
        "    def __init__(self, nb_classes):\n",
        "        super(wide_deep_nn, self).__init__()\n",
        "\n",
        "        self.W1 = tf.Variable(tf.random.normal((2, nb_classes)), name='weight1')\n",
        "        self.b1 = tf.Variable(tf.random.normal((nb_classes,)), name='bias1')\n",
        "\n",
        "        self.W2 = tf.Variable(tf.random.normal((nb_classes, nb_classes)), name='weight2')\n",
        "        self.b2 = tf.Variable(tf.random.normal((nb_classes,)), name='bias2')\n",
        "\n",
        "        self.W3 = tf.Variable(tf.random.normal((nb_classes, nb_classes)), name='weight3')\n",
        "        self.b3 = tf.Variable(tf.random.normal((nb_classes,)), name='bias3')\n",
        "\n",
        "        self.W4 = tf.Variable(tf.random.normal((nb_classes, 1)), name='weight4')\n",
        "        self.b4 = tf.Variable(tf.random.normal((1,)), name='bias4')\n",
        "\n",
        "        self.variables = [self.W1,self.b1,self.W2,self.b2,self.W3,self.b3,self.W4,self.b4]\n",
        "\n",
        "    def preprocess_data(self, features, labels):\n",
        "        features = tf.cast(features, tf.float32)\n",
        "        labels = tf.cast(labels, tf.float32)\n",
        "        return features, labels\n",
        "\n",
        "    def deep_nn(self, features):\n",
        "        layer1 = tf.sigmoid(tf.matmul(features, self.W1) + self.b1)\n",
        "        layer2 = tf.sigmoid(tf.matmul(layer1, self.W2) + self.b2)\n",
        "        layer3 = tf.sigmoid(tf.matmul(layer2, self.W3) + self.b3)\n",
        "        hypothesis = tf.sigmoid(tf.matmul(layer3, self.W4) + self.b4)\n",
        "        return hypothesis\n",
        "\n",
        "    def loss_fn(self, hypothesis, features, labels):\n",
        "        cost = -tf.reduce_mean(labels * tf.math.log(hypothesis) + (1 - labels) * tf.math.log(1 - hypothesis))\n",
        "        return cost\n",
        "\n",
        "    def accuracy_fn(self, hypothesis, labels):\n",
        "        predicted = tf.cast(hypothesis > 0.5, dtype=tf.float32)\n",
        "        accuracy = tf.reduce_mean(tf.cast(tf.equal(predicted, labels), dtype=tf.float32))\n",
        "        return accuracy\n",
        "\n",
        "    def grad(self, hypothesis, features, labels):\n",
        "        with tf.GradientTape() as tape:\n",
        "            loss_value = self.loss_fn(self.deep_nn(features),features,labels)\n",
        "        return tape.gradient(loss_value,self.variables)\n",
        "\n",
        "    def fit(self, dataset, EPOCHS=20000, verbose=500):\n",
        "        optimizer =  tf.keras.optimizers.SGD(learning_rate=0.01)\n",
        "        for step in range(EPOCHS):\n",
        "            for features, labels  in dataset:\n",
        "                features, labels = self.preprocess_data(features, labels)\n",
        "                grads = self.grad(self.deep_nn(features), features, labels)\n",
        "                optimizer.apply_gradients(grads_and_vars=zip(grads, self.variables))\n",
        "                if step % verbose == 0:\n",
        "                    print(\"Iter: {}, Loss: {:.4f}\".format(step, self.loss_fn(self.deep_nn(features),features,labels)))\n",
        "    def test_model(self,x_data, y_data):\n",
        "        x_data, y_data = self.preprocess_data(x_data, y_data)\n",
        "        test_acc = self.accuracy_fn(self.deep_nn(x_data),y_data)\n",
        "        print(\"Testset Accuracy: {:.4f}\".format(test_acc))"
      ],
      "metadata": {
        "id": "Y56xrEDGDcm-"
      },
      "execution_count": 19,
      "outputs": []
    },
    {
      "cell_type": "code",
      "source": [
        "model = wide_deep_nn(nb_classes)"
      ],
      "metadata": {
        "id": "tSZqWEvEFlno"
      },
      "execution_count": 20,
      "outputs": []
    },
    {
      "cell_type": "code",
      "source": [
        "model.fit(dataset)"
      ],
      "metadata": {
        "colab": {
          "base_uri": "https://localhost:8080/"
        },
        "id": "k6Q0r5nKFnYh",
        "outputId": "468f0390-e61e-4c0d-ef6a-fed415b559cc"
      },
      "execution_count": 21,
      "outputs": [
        {
          "output_type": "stream",
          "name": "stdout",
          "text": [
            "Iter: 0, Loss: 1.3109\n",
            "Iter: 500, Loss: 0.7002\n",
            "Iter: 1000, Loss: 0.6930\n",
            "Iter: 1500, Loss: 0.6874\n",
            "Iter: 2000, Loss: 0.6830\n",
            "Iter: 2500, Loss: 0.6792\n",
            "Iter: 3000, Loss: 0.6757\n",
            "Iter: 3500, Loss: 0.6721\n",
            "Iter: 4000, Loss: 0.6682\n",
            "Iter: 4500, Loss: 0.6638\n",
            "Iter: 5000, Loss: 0.6586\n",
            "Iter: 5500, Loss: 0.6525\n",
            "Iter: 6000, Loss: 0.6452\n",
            "Iter: 6500, Loss: 0.6364\n",
            "Iter: 7000, Loss: 0.6256\n",
            "Iter: 7500, Loss: 0.6123\n",
            "Iter: 8000, Loss: 0.5955\n",
            "Iter: 8500, Loss: 0.5740\n",
            "Iter: 9000, Loss: 0.5464\n",
            "Iter: 9500, Loss: 0.5111\n",
            "Iter: 10000, Loss: 0.4675\n",
            "Iter: 10500, Loss: 0.4169\n",
            "Iter: 11000, Loss: 0.3621\n",
            "Iter: 11500, Loss: 0.3066\n",
            "Iter: 12000, Loss: 0.2543\n",
            "Iter: 12500, Loss: 0.2081\n",
            "Iter: 13000, Loss: 0.1694\n",
            "Iter: 13500, Loss: 0.1384\n",
            "Iter: 14000, Loss: 0.1139\n",
            "Iter: 14500, Loss: 0.0949\n",
            "Iter: 15000, Loss: 0.0800\n",
            "Iter: 15500, Loss: 0.0683\n",
            "Iter: 16000, Loss: 0.0590\n",
            "Iter: 16500, Loss: 0.0515\n",
            "Iter: 17000, Loss: 0.0455\n",
            "Iter: 17500, Loss: 0.0405\n",
            "Iter: 18000, Loss: 0.0363\n",
            "Iter: 18500, Loss: 0.0328\n",
            "Iter: 19000, Loss: 0.0298\n",
            "Iter: 19500, Loss: 0.0273\n"
          ]
        }
      ]
    },
    {
      "cell_type": "markdown",
      "source": [
        "## Tensorboard 활용"
      ],
      "metadata": {
        "id": "gd0I2b7wG1So"
      }
    },
    {
      "cell_type": "code",
      "source": [
        "log_path = \"./logs/xor\"\n",
        "writer = tf.summary.create_file_writer(log_path)"
      ],
      "metadata": {
        "id": "NuQfzxQPG3LV"
      },
      "execution_count": 23,
      "outputs": []
    },
    {
      "cell_type": "code",
      "source": [
        "W1 = tf.Variable(tf.random.normal((2, 10)), name='weight1')\n",
        "b1 = tf.Variable(tf.random.normal((10,)), name='bias1')\n",
        "\n",
        "W2 = tf.Variable(tf.random.normal((10, 10)), name='weight2')\n",
        "b2 = tf.Variable(tf.random.normal((10,)), name='bias2')\n",
        "\n",
        "W3 = tf.Variable(tf.random.normal((10, 10)), name='weight3')\n",
        "b3 = tf.Variable(tf.random.normal((10,)), name='bias3')\n",
        "\n",
        "W4 = tf.Variable(tf.random.normal((10, 1)), name='weight4')\n",
        "b4 = tf.Variable(tf.random.normal((1,)), name='bias4')\n",
        "\n",
        "def neural_net(features, step):\n",
        "    layer1 = tf.sigmoid(tf.matmul(features, W1) + b1)\n",
        "    layer2 = tf.sigmoid(tf.matmul(layer1, W2) + b2)\n",
        "    layer3 = tf.sigmoid(tf.matmul(layer2, W3) + b3)\n",
        "    hypothesis = tf.sigmoid(tf.matmul(layer3, W4) + b4)\n",
        "\n",
        "    with writer.as_default():\n",
        "        tf.summary.histogram(\"weights1\", W1, step=step)\n",
        "        tf.summary.histogram(\"biases1\", b1, step=step)\n",
        "        tf.summary.histogram(\"layer1\", layer1, step=step)\n",
        "\n",
        "        tf.summary.histogram(\"weights2\", W2, step=step)\n",
        "        tf.summary.histogram(\"biases2\", b2, step=step)\n",
        "        tf.summary.histogram(\"layer2\", layer2, step=step)\n",
        "\n",
        "        tf.summary.histogram(\"weights3\", W3, step=step)\n",
        "        tf.summary.histogram(\"biases3\", b3, step=step)\n",
        "        tf.summary.histogram(\"layer3\", layer3, step=step)\n",
        "\n",
        "        tf.summary.histogram(\"weights4\", W4, step=step)\n",
        "        tf.summary.histogram(\"biases4\", b4, step=step)\n",
        "        tf.summary.histogram(\"hypothesis\", hypothesis, step=step)\n",
        "\n",
        "    return hypothesis\n",
        "\n",
        "def loss_fn(hypothesis, labels):\n",
        "    cost = -tf.reduce_mean(labels * tf.math.log(hypothesis) + (1 - labels) * tf.math.log(1 - hypothesis))\n",
        "    with writer.as_default():\n",
        "        tf.summary.scalar('loss', cost, step=step)\n",
        "    return cost\n",
        "\n",
        "optimizer = tf.keras.optimizers.SGD(learning_rate=0.1)\n",
        "\n",
        "def accuracy_fn(hypothesis, labels):\n",
        "    predicted = tf.cast(hypothesis > 0.5, dtype=tf.float32)\n",
        "    accuracy = tf.reduce_mean(tf.cast(tf.equal(predicted, labels), dtype=tf.float32))\n",
        "    return accuracy\n",
        "\n",
        "def grad(hypothesis, features, labels, step):\n",
        "    with tf.GradientTape() as tape:\n",
        "        loss_value = loss_fn(neural_net(features, step),labels)\n",
        "    return tape.gradient(loss_value, [W1, W2, W3, W4, b1, b2, b3, b4])"
      ],
      "metadata": {
        "id": "-sGbJ99NG-J7"
      },
      "execution_count": 24,
      "outputs": []
    },
    {
      "cell_type": "code",
      "source": [
        "EPOCHS = 3000\n",
        "\n",
        "for step in range(EPOCHS):\n",
        "    for features, labels  in dataset:\n",
        "        features, labels = preprocess_data(features, labels)\n",
        "        grads = grad(neural_net(features, step), features, labels, step)\n",
        "        optimizer.apply_gradients(grads_and_vars=zip(grads,[W1, W2, W3, W4, b1, b2, b3, b4]))\n",
        "        if step % 50 == 0:\n",
        "            loss_value = loss_fn(neural_net(features, step),labels)\n",
        "            print(\"Iter: {}, Loss: {:.4f}\".format(step, loss_value))\n",
        "x_data, y_data = preprocess_data(x_data, y_data)\n",
        "test_acc = accuracy_fn(neural_net(x_data, step),y_data)\n",
        "print(\"Testset Accuracy: {:.4f}\".format(test_acc))"
      ],
      "metadata": {
        "colab": {
          "base_uri": "https://localhost:8080/"
        },
        "id": "nk1NtzgkHcyM",
        "outputId": "c4e3622a-9b82-40be-b0e6-b52c21c86010"
      },
      "execution_count": 25,
      "outputs": [
        {
          "output_type": "stream",
          "name": "stdout",
          "text": [
            "Iter: 0, Loss: 0.7094\n",
            "Iter: 50, Loss: 0.6908\n",
            "Iter: 100, Loss: 0.6854\n",
            "Iter: 150, Loss: 0.6809\n",
            "Iter: 200, Loss: 0.6767\n",
            "Iter: 250, Loss: 0.6723\n",
            "Iter: 300, Loss: 0.6675\n",
            "Iter: 350, Loss: 0.6621\n",
            "Iter: 400, Loss: 0.6559\n",
            "Iter: 450, Loss: 0.6488\n",
            "Iter: 500, Loss: 0.6407\n",
            "Iter: 550, Loss: 0.6315\n",
            "Iter: 600, Loss: 0.6213\n",
            "Iter: 650, Loss: 0.6099\n",
            "Iter: 700, Loss: 0.5974\n",
            "Iter: 750, Loss: 0.5835\n",
            "Iter: 800, Loss: 0.5682\n",
            "Iter: 850, Loss: 0.5514\n",
            "Iter: 900, Loss: 0.5328\n",
            "Iter: 950, Loss: 0.5121\n",
            "Iter: 1000, Loss: 0.4889\n",
            "Iter: 1050, Loss: 0.4628\n",
            "Iter: 1100, Loss: 0.4334\n",
            "Iter: 1150, Loss: 0.4006\n",
            "Iter: 1200, Loss: 0.3649\n",
            "Iter: 1250, Loss: 0.3274\n",
            "Iter: 1300, Loss: 0.2897\n",
            "Iter: 1350, Loss: 0.2536\n",
            "Iter: 1400, Loss: 0.2205\n",
            "Iter: 1450, Loss: 0.1912\n",
            "Iter: 1500, Loss: 0.1661\n",
            "Iter: 1550, Loss: 0.1448\n",
            "Iter: 1600, Loss: 0.1270\n",
            "Iter: 1650, Loss: 0.1121\n",
            "Iter: 1700, Loss: 0.0995\n",
            "Iter: 1750, Loss: 0.0890\n",
            "Iter: 1800, Loss: 0.0801\n",
            "Iter: 1850, Loss: 0.0725\n",
            "Iter: 1900, Loss: 0.0661\n",
            "Iter: 1950, Loss: 0.0605\n",
            "Iter: 2000, Loss: 0.0556\n",
            "Iter: 2050, Loss: 0.0514\n",
            "Iter: 2100, Loss: 0.0477\n",
            "Iter: 2150, Loss: 0.0444\n",
            "Iter: 2200, Loss: 0.0415\n",
            "Iter: 2250, Loss: 0.0389\n",
            "Iter: 2300, Loss: 0.0365\n",
            "Iter: 2350, Loss: 0.0344\n",
            "Iter: 2400, Loss: 0.0325\n",
            "Iter: 2450, Loss: 0.0308\n",
            "Iter: 2500, Loss: 0.0292\n",
            "Iter: 2550, Loss: 0.0278\n",
            "Iter: 2600, Loss: 0.0265\n",
            "Iter: 2650, Loss: 0.0253\n",
            "Iter: 2700, Loss: 0.0241\n",
            "Iter: 2750, Loss: 0.0231\n",
            "Iter: 2800, Loss: 0.0222\n",
            "Iter: 2850, Loss: 0.0213\n",
            "Iter: 2900, Loss: 0.0204\n",
            "Iter: 2950, Loss: 0.0197\n",
            "Testset Accuracy: 1.0000\n"
          ]
        }
      ]
    }
  ]
}