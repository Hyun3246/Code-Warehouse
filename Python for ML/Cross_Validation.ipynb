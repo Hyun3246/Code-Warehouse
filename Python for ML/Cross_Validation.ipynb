{
  "nbformat": 4,
  "nbformat_minor": 0,
  "metadata": {
    "colab": {
      "provenance": [],
      "authorship_tag": "ABX9TyPcAjGoqaGzlZ6GrymLg1Um",
      "include_colab_link": true
    },
    "kernelspec": {
      "name": "python3",
      "display_name": "Python 3"
    },
    "language_info": {
      "name": "python"
    }
  },
  "cells": [
    {
      "cell_type": "markdown",
      "metadata": {
        "id": "view-in-github",
        "colab_type": "text"
      },
      "source": [
        "<a href=\"https://colab.research.google.com/github/Hyun3246/Code-Warehouse/blob/main/Cross_Validation.ipynb\" target=\"_parent\"><img src=\"https://colab.research.google.com/assets/colab-badge.svg\" alt=\"Open In Colab\"/></a>"
      ]
    },
    {
      "cell_type": "code",
      "source": [
        "from google.colab import drive\n",
        "drive.mount('/content/drive')"
      ],
      "metadata": {
        "colab": {
          "base_uri": "https://localhost:8080/"
        },
        "id": "OXPBqe3RPBgf",
        "outputId": "5f7d0d26-298a-42c3-c1d4-bfb8cc8a1bfd"
      },
      "execution_count": 1,
      "outputs": [
        {
          "output_type": "stream",
          "name": "stdout",
          "text": [
            "Mounted at /content/drive\n"
          ]
        }
      ]
    },
    {
      "cell_type": "code",
      "source": [
        "import pandas as pd\n",
        "import numpy as np\n",
        "\n",
        "data_url = \"http://lib.stat.cmu.edu/datasets/boston\"\n",
        "raw_df = pd.read_csv(data_url, sep=\"\\s+\", skiprows=22, header=None)\n",
        "X = np.hstack([raw_df.values[::2, :], raw_df.values[1::2, :2]])\n",
        "y = raw_df.values[1::2, 2]"
      ],
      "metadata": {
        "id": "utphJzjePToy"
      },
      "execution_count": 3,
      "outputs": []
    },
    {
      "cell_type": "code",
      "source": [
        "from sklearn.model_selection import KFold\n",
        "\n",
        "kf = KFold(n_splits = 10, shuffle=True)\n",
        "\n",
        "for train_index, test_index in kf.split(X):\n",
        "    print(\"TRAIN - \", len(train_index))\n",
        "    print(\"TEST - \", len(test_index))"
      ],
      "metadata": {
        "colab": {
          "base_uri": "https://localhost:8080/"
        },
        "id": "euMeHQU_Pfv9",
        "outputId": "f29a1175-22f3-4a29-c9b8-de5b5c6f368a"
      },
      "execution_count": 4,
      "outputs": [
        {
          "output_type": "stream",
          "name": "stdout",
          "text": [
            "TRAIN -  455\n",
            "TEST -  51\n",
            "TRAIN -  455\n",
            "TEST -  51\n",
            "TRAIN -  455\n",
            "TEST -  51\n",
            "TRAIN -  455\n",
            "TEST -  51\n",
            "TRAIN -  455\n",
            "TEST -  51\n",
            "TRAIN -  455\n",
            "TEST -  51\n",
            "TRAIN -  456\n",
            "TEST -  50\n",
            "TRAIN -  456\n",
            "TEST -  50\n",
            "TRAIN -  456\n",
            "TEST -  50\n",
            "TRAIN -  456\n",
            "TEST -  50\n"
          ]
        }
      ]
    },
    {
      "cell_type": "markdown",
      "source": [
        "## K-Fold 교차검증"
      ],
      "metadata": {
        "id": "9t9wKy_gSiD6"
      }
    },
    {
      "cell_type": "code",
      "source": [
        "from sklearn.linear_model import Lasso, Ridge\n",
        "from sklearn.metrics import mean_squared_error\n",
        "\n",
        "kf = KFold(n_splits = 10)\n",
        "lasso_regressor = Lasso()\n",
        "ridge_regressor = Ridge()\n",
        "\n",
        "lasso_mse = []\n",
        "ridge_mse = []\n",
        "\n",
        "for train_index, test_index in kf.split(X):\n",
        "    lasso_regressor.fit(X[train_index], y[train_index])\n",
        "    ridge_regressor.fit(X[train_index], y[train_index])\n",
        "\n",
        "    lasso_mse.append(mean_squared_error(y[test_index], lasso_regressor.predict(X[test_index])))\n",
        "    ridge_mse.append(mean_squared_error(y[test_index], ridge_regressor.predict(X[test_index])))\n",
        "\n",
        "sum(lasso_mse) / 10, sum(ridge_mse) / 10"
      ],
      "metadata": {
        "colab": {
          "base_uri": "https://localhost:8080/"
        },
        "id": "iUpQdz8QP5No",
        "outputId": "acb90b14-d3fb-4646-8d9d-ca0077406bf9"
      },
      "execution_count": 5,
      "outputs": [
        {
          "output_type": "execute_result",
          "data": {
            "text/plain": [
              "(34.46408458830232, 34.07824620925938)"
            ]
          },
          "metadata": {},
          "execution_count": 5
        }
      ]
    },
    {
      "cell_type": "markdown",
      "source": [
        "## K-Fold 교차검증\n",
        "\n",
        "`cross_val_score`를 사용하면 조금 더 편리함."
      ],
      "metadata": {
        "id": "W1-x9fTfSvPF"
      }
    },
    {
      "cell_type": "code",
      "source": [
        "from sklearn.model_selection import cross_val_score\n",
        "import numpy as np\n",
        "\n",
        "lasso_regressor = Lasso(warm_start=False)\n",
        "ridge_regressor = Ridge()\n",
        "\n",
        "lasso_scores = cross_val_score(lasso_regressor, X, y, cv=10, scoring='neg_mean_squared_error')\n",
        "ridge_scores = cross_val_score(ridge_regressor, X, y, cv=10, scoring='neg_mean_squared_error')\n",
        "\n",
        "np.mean(lasso_scores), np.mean(ridge_scores)"
      ],
      "metadata": {
        "colab": {
          "base_uri": "https://localhost:8080/"
        },
        "id": "Y8WEfzleQZi3",
        "outputId": "71198738-bb26-48c4-9c4e-f9a1b452dca7"
      },
      "execution_count": 8,
      "outputs": [
        {
          "output_type": "execute_result",
          "data": {
            "text/plain": [
              "(-34.46408458830232, -34.07824620925938)"
            ]
          },
          "metadata": {},
          "execution_count": 8
        }
      ]
    },
    {
      "cell_type": "code",
      "source": [
        "from sklearn.model_selection import cross_validate\n",
        "import numpy as np\n",
        "\n",
        "lasso_regressor = Lasso(warm_start=False)\n",
        "ridge_regressor = Ridge()\n",
        "\n",
        "scoring = ['neg_mean_squared_error', 'r2']\n",
        "\n",
        "lasso_scores = cross_validate(lasso_regressor, X, y, cv=10, scoring=scoring)\n",
        "ridge_scores = cross_validate(ridge_regressor, X, y, cv=10, scoring='neg_mean_squared_error')\n",
        "lasso_scores"
      ],
      "metadata": {
        "colab": {
          "base_uri": "https://localhost:8080/"
        },
        "id": "_dEyjBHMQsZq",
        "outputId": "11efd7d3-f52a-422f-cac9-b2852e417ab5"
      },
      "execution_count": 9,
      "outputs": [
        {
          "output_type": "execute_result",
          "data": {
            "text/plain": [
              "{'fit_time': array([0.00414515, 0.0012486 , 0.00119352, 0.0010848 , 0.00103998,\n",
              "        0.00111389, 0.00112724, 0.00103664, 0.0023787 , 0.00191998]),\n",
              " 'score_time': array([0.00232482, 0.00118542, 0.00109148, 0.00107813, 0.00105739,\n",
              "        0.00109124, 0.00108361, 0.00121641, 0.00156069, 0.0017662 ]),\n",
              " 'test_neg_mean_squared_error': array([ -11.75904887,  -17.87218543,  -10.52504673,  -60.79224355,\n",
              "         -46.77806854,  -40.75196077,  -17.30562005, -102.67754279,\n",
              "         -22.8731834 ,  -13.30594575]),\n",
              " 'test_r2': array([ 0.66289033,  0.33452353, -0.50043664,  0.38035161,  0.33638098,\n",
              "         0.4584511 , -0.0816218 ,  0.31138236, -0.21362102,  0.29459703])}"
            ]
          },
          "metadata": {},
          "execution_count": 9
        }
      ]
    },
    {
      "cell_type": "code",
      "source": [
        "from sklearn.model_selection import cross_val_score\n",
        "import numpy as np\n",
        "\n",
        "lasso_regressor = Lasso(warm_start=False)\n",
        "ridge_regressor = Ridge()\n",
        "\n",
        "kf = KFold(n_splits = 10, shuffle=True)\n",
        "\n",
        "lasso_scores = cross_val_score(lasso_regressor, X, y, cv=kf, scoring='neg_mean_squared_error')\n",
        "ridge_scores = cross_val_score(ridge_regressor, X, y, cv=kf, scoring='neg_mean_squared_error')\n",
        "\n",
        "np.mean(lasso_scores), np.mean(ridge_scores)"
      ],
      "metadata": {
        "colab": {
          "base_uri": "https://localhost:8080/"
        },
        "id": "vMkVuCsvRD7c",
        "outputId": "92ff8b8b-c610-4529-dc10-8b2eca1a3862"
      },
      "execution_count": 10,
      "outputs": [
        {
          "output_type": "execute_result",
          "data": {
            "text/plain": [
              "(-28.234759011737474, -23.938347528563718)"
            ]
          },
          "metadata": {},
          "execution_count": 10
        }
      ]
    },
    {
      "cell_type": "markdown",
      "source": [
        "## Leave One Out"
      ],
      "metadata": {
        "id": "vs-pyYN_TIbF"
      }
    },
    {
      "cell_type": "code",
      "source": [
        "from sklearn.model_selection import LeaveOneOut\n",
        "\n",
        "test = [1, 2, 3, 4]\n",
        "loo = LeaveOneOut()\n",
        "for train, test in loo.split(test):\n",
        "    print(\"%s %s\" % (train, test))"
      ],
      "metadata": {
        "colab": {
          "base_uri": "https://localhost:8080/"
        },
        "id": "Re82rgbCRW7V",
        "outputId": "f847e142-203d-4a8b-c21f-d29dff19f4cb"
      },
      "execution_count": 11,
      "outputs": [
        {
          "output_type": "stream",
          "name": "stdout",
          "text": [
            "[1 2 3] [0]\n",
            "[0 2 3] [1]\n",
            "[0 1 3] [2]\n",
            "[0 1 2] [3]\n"
          ]
        }
      ]
    },
    {
      "cell_type": "code",
      "source": [
        "loo = LeaveOneOut()\n",
        "\n",
        "lasso_scores = cross_val_score(lasso_regressor, X, y, cv=loo, scoring='neg_mean_squared_error')\n",
        "ridge_scores= cross_val_score(ridge_regressor, X, y, cv=loo, scoring='neg_mean_squared_error')\n",
        "np.mean(lasso_scores), np.mean(ridge_scores)"
      ],
      "metadata": {
        "colab": {
          "base_uri": "https://localhost:8080/"
        },
        "id": "XbbaaqDHRhQM",
        "outputId": "bb32417a-e08c-49cd-9c01-ec385abd92be"
      },
      "execution_count": 12,
      "outputs": [
        {
          "output_type": "execute_result",
          "data": {
            "text/plain": [
              "(-28.409266762049338, -23.862836317209972)"
            ]
          },
          "metadata": {},
          "execution_count": 12
        }
      ]
    },
    {
      "cell_type": "markdown",
      "source": [
        "## 모델 간 비교"
      ],
      "metadata": {
        "id": "nzC1FS7NTP0Q"
      }
    },
    {
      "cell_type": "code",
      "source": [
        "lasso_scores = cross_val_score(\n",
        "    lasso_regressor, X, y, cv=kf, scoring='neg_mean_squared_error')\n",
        "ridge_scores= cross_val_score(\n",
        "    ridge_regressor, X, y, cv=kf, scoring='neg_mean_squared_error')"
      ],
      "metadata": {
        "id": "5UZleaRmRnXn"
      },
      "execution_count": 13,
      "outputs": []
    },
    {
      "cell_type": "code",
      "source": [
        "import matplotlib.pyplot as plt\n",
        "labels=[\"LASSO\", \"RIDGE\"]\n",
        "plt.boxplot((lasso_scores, ridge_scores), labels=labels)\n",
        "plt.grid(linestyle=\"--\")\n",
        "plt.show()"
      ],
      "metadata": {
        "colab": {
          "base_uri": "https://localhost:8080/",
          "height": 430
        },
        "id": "koenmt44RyWk",
        "outputId": "5c3c2fd4-f89a-4d17-f2da-178fed197c2d"
      },
      "execution_count": 14,
      "outputs": [
        {
          "output_type": "display_data",
          "data": {
            "text/plain": [
              "<Figure size 640x480 with 1 Axes>"
            ],
            "image/png": "[encoded data removed]"
          },
          "metadata": {}
        }
      ]
    },
    {
      "cell_type": "markdown",
      "source": [
        "## Dev set (Val set)"
      ],
      "metadata": {
        "id": "06jhRztOThg8"
      }
    },
    {
      "cell_type": "code",
      "source": [
        "def rmse(predictions, targets):\n",
        "    return np.sqrt(((predictions - targets) ** 2).mean())"
      ],
      "metadata": {
        "id": "JhFv8HdfR3CN"
      },
      "execution_count": 15,
      "outputs": []
    },
    {
      "cell_type": "code",
      "source": [
        "from sklearn.linear_model import SGDRegressor\n",
        "from sklearn.preprocessing import StandardScaler\n",
        "\n",
        "std = StandardScaler()\n",
        "std.fit(X)\n",
        "X_scaled = std.transform(X)\n",
        "\n",
        "eta0 = 0.01\n",
        "max_iter = 100"
      ],
      "metadata": {
        "id": "5bav2DMTR8pE"
      },
      "execution_count": 16,
      "outputs": []
    },
    {
      "cell_type": "code",
      "source": [
        "from sklearn.model_selection import train_test_split\n",
        "\n",
        "\n",
        "X_train_dataset, X_test, y_train_dataset, y_test = train_test_split(\n",
        "            X_scaled,y, test_size=0.2, random_state=42)\n",
        "\n",
        "sgd_regressor = SGDRegressor(\n",
        "    eta0=eta0, max_iter=max_iter, warm_start=True, learning_rate=\"constant\")\n",
        "\n",
        "rmse_val_score = []\n",
        "rmse_train_score = []\n",
        "model_list = []\n",
        "\n",
        "X_train, X_val, y_train, y_val = train_test_split(\n",
        "    X_train_dataset,y_train_dataset, test_size=0.2, random_state=42)\n",
        "sgd_regressor.fit(X_train,y_train)\n",
        "\n",
        "for i in range(300):\n",
        "\n",
        "    y_pred = sgd_regressor.predict(X_train)\n",
        "    y_true = y_train\n",
        "    rmse_train_score.append(rmse(y_pred, y_true))\n",
        "\n",
        "    y_pred = sgd_regressor.predict(X_val)\n",
        "    y_true = y_val\n",
        "    rmse_val_score.append(rmse(y_pred, y_true))\n",
        "    model_list.append(sgd_regressor)\n",
        "\n",
        "    coef = sgd_regressor.coef_.copy()\n",
        "    intercept = sgd_regressor.intercept_.copy()\n",
        "\n",
        "    sgd_regressor = SGDRegressor(\n",
        "        eta0=eta0, max_iter=max_iter, warm_start=True, learning_rate=\"constant\")\n",
        "\n",
        "    sgd_regressor.fit(X_train,y_train, coef_init=coef, intercept_init=intercept)"
      ],
      "metadata": {
        "id": "CfGJI_-GSAQU"
      },
      "execution_count": 18,
      "outputs": []
    },
    {
      "cell_type": "code",
      "source": [
        "plt.plot(range(len(rmse_val_score)), rmse_val_score,  c=\"g\", label=\"VAL\")\n",
        "plt.plot(range(len(rmse_train_score)), rmse_train_score,  c=\"r\", label=\"TRAINING\")\n",
        "plt.scatter(99, rmse(y_test,sgd_regressor.predict(X_test)), s=1, label=\"TEST\")\n",
        "plt.legend()\n",
        "plt.show()"
      ],
      "metadata": {
        "colab": {
          "base_uri": "https://localhost:8080/",
          "height": 430
        },
        "id": "C3j3EtZ6SHkN",
        "outputId": "dccab8e8-5a75-411d-a733-75b4d4d9069d"
      },
      "execution_count": 20,
      "outputs": [
        {
          "output_type": "display_data",
          "data": {
            "text/plain": [
              "<Figure size 640x480 with 1 Axes>"
            ],
            "image/png": "[encoded data removed]"
          },
          "metadata": {}
        }
      ]
    },
    {
      "cell_type": "code",
      "source": [
        "np.argsort(rmse_val_score)"
      ],
      "metadata": {
        "colab": {
          "base_uri": "https://localhost:8080/"
        },
        "id": "Xgd2F7aDSNRE",
        "outputId": "72e1ea9b-8342-49ef-c31d-c1eeadc9ca65"
      },
      "execution_count": 21,
      "outputs": [
        {
          "output_type": "execute_result",
          "data": {
            "text/plain": [
              "array([152, 279, 256,   5, 286, 269, 104, 226, 162, 283, 142, 271,  79,\n",
              "       284, 115,  37,   7, 275, 236, 101, 207, 290,  11, 172,  71, 114,\n",
              "       154, 160,   6, 175,  14, 230, 179,  31, 225, 134, 185, 124, 146,\n",
              "        53,  24, 267, 141,  76,   9,  55, 216,  85, 128, 159,  72,  45,\n",
              "       178, 110, 120, 196, 293, 232,  75, 253, 295, 243,  40,  98, 244,\n",
              "       288, 132,  36,  68,  30,  39,  50, 266, 238, 268, 249, 137,  67,\n",
              "        19, 289,  63, 197,  28, 136, 265, 200, 173, 278,  56, 188, 220,\n",
              "       169, 203, 276, 126, 198, 180, 182,  73, 228,  57, 297, 129, 144,\n",
              "       209, 245,  29, 235,  62, 184, 158, 112, 270,  38, 113, 213, 223,\n",
              "       143, 251,  10,  12, 287,   0, 217,  52,  34, 171, 111, 187, 108,\n",
              "        54, 299,  80,  32,  13,  26,  86, 218, 242, 212,  74, 263,  51,\n",
              "       149,  23, 183, 277, 296, 205,  97, 208, 107, 260, 202, 157,  16,\n",
              "        89, 192, 211,  47,  44, 191,  94, 241, 210,  70, 135, 246, 148,\n",
              "       280,  77, 131, 190,  64,  84, 193, 123, 118,  48, 298,  96, 125,\n",
              "       165, 102,   8,  49,   3, 150, 229,   4, 167, 121, 194, 215, 127,\n",
              "       250, 130,   2, 117, 189,  78, 285, 163, 281, 166, 156, 145,  88,\n",
              "        61,  83, 151, 140, 248, 164,  42, 234, 201, 247,  99, 231, 119,\n",
              "       227,  59, 292,  93, 258, 153, 255,  15, 133,  92,  81, 139, 224,\n",
              "       240,  27, 181,  43, 294, 262, 273, 239, 170, 221, 237, 261, 106,\n",
              "       186, 219,  33, 168, 291,   1, 174, 214,  65,  58, 272, 122, 105,\n",
              "        69,  41,  90,  25, 177, 252,  95, 161, 103, 254, 204, 155, 206,\n",
              "        22, 264,  91, 138,  20, 233,  87,  66,  21, 274, 147, 116,  18,\n",
              "       259, 282, 176, 257, 109,  46, 100,  60, 199,  82, 195,  35, 222,\n",
              "        17])"
            ]
          },
          "metadata": {},
          "execution_count": 21
        }
      ]
    },
    {
      "cell_type": "code",
      "source": [
        "rmse(y_test,sgd_regressor.predict(X_test))"
      ],
      "metadata": {
        "colab": {
          "base_uri": "https://localhost:8080/"
        },
        "id": "s0el8_l9STD0",
        "outputId": "c199a373-d869-4bf5-9ade-19b0bce1f45e"
      },
      "execution_count": 22,
      "outputs": [
        {
          "output_type": "execute_result",
          "data": {
            "text/plain": [
              "4.921335583804232"
            ]
          },
          "metadata": {},
          "execution_count": 22
        }
      ]
    },
    {
      "cell_type": "code",
      "source": [
        "rmse(y_test,model_list[152].predict(X_test))"
      ],
      "metadata": {
        "colab": {
          "base_uri": "https://localhost:8080/"
        },
        "id": "Y9fl9oBnSYwM",
        "outputId": "0db0c998-6950-4e59-a736-22f44377ce09"
      },
      "execution_count": 23,
      "outputs": [
        {
          "output_type": "execute_result",
          "data": {
            "text/plain": [
              "4.857570030709529"
            ]
          },
          "metadata": {},
          "execution_count": 23
        }
      ]
    },
    {
      "cell_type": "code",
      "source": [
        "model_list[0].coef_"
      ],
      "metadata": {
        "colab": {
          "base_uri": "https://localhost:8080/"
        },
        "id": "vSFSRActScRk",
        "outputId": "d15fb5b3-97ee-45c3-d6a3-46f246d5e2ad"
      },
      "execution_count": 24,
      "outputs": [
        {
          "output_type": "execute_result",
          "data": {
            "text/plain": [
              "array([-1.36095247,  0.6634076 ,  0.21866986,  0.90928746, -2.35075302,\n",
              "        3.4488205 ,  0.10464749, -3.31389732,  1.85314201, -1.392132  ,\n",
              "       -2.25531067,  1.05823666, -3.5653295 ])"
            ]
          },
          "metadata": {},
          "execution_count": 24
        }
      ]
    },
    {
      "cell_type": "code",
      "source": [],
      "metadata": {
        "id": "gwr7Be7bSdh0"
      },
      "execution_count": null,
      "outputs": []
    }
  ]
}
